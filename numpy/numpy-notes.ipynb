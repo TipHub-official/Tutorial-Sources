{
 "cells": [
  {
   "cell_type": "markdown",
   "id": "bebb8562",
   "metadata": {},
   "source": [
    "<H1 style=\"direction:rtl\"><font color=\"red\" face=\"IRANSans\">جلسه هفتم : آموزش کتابخانه numpy</font></H1>"
   ]
  },
  {
   "cell_type": "markdown",
   "id": "11e48f07",
   "metadata": {},
   "source": [
    "<img src=\"images/numpy.png\" alt=\"this slowpoke moves\"  width=\"500\" />"
   ]
  },
  {
   "cell_type": "markdown",
   "id": "e901dad5",
   "metadata": {},
   "source": [
    "<H2 style=\"direction:rtl\"><font color=\"blue\" face=\"IRANSans\">معرفی و نصب numpy</font></H2>\n",
    "<div style=\"direction:rtl;font-family:vazir;margin:10px 0;\" face=\"IRANSans\">\n",
    "    <ul>\n",
    "        <li style=\"margin:3px 0;\"> NumPy (Numerical Python) پایه‌ای‌ترین و پرکاربردترین کتابخانه‌ زبان برنامه نویسی پایتون برای محاسبات علمی است.\n",
    "</li>\n",
    "        <li style=\"margin:3px 0;\"> با استفاده از این کتابخانه امکان کار با آرایه‌ها و ماتریس‌های بزرگ چند بعدی <b>همگن</b> فراهم می‌شود.\n",
    "</li>\n",
    "        <li style=\"margin:3px 0;\"> با استفاده از این کتابخانه می‌توانیم انواع عملیات ریاضی، منطقی، تغییر شکل، مرتب‌سازی، انتخاب و ... را بر روی آرایه‌ها با سرعت بالایی اجرا کنیم.\n",
    "</li>\n",
    "        <li style=\"margin:3px 0;\"> همگن: داده در یک آرایه  NumPy باید دارای نوع مشابهی باشند\n",
    "</li>\n",
    "        <li style=\"margin:3px 0;\"> با استفاده از دستور <b>pip install</b>  می‌توانیم کتابخانه موردنظرمان را در پایتون نصب کنیم.\n",
    "</li>\n",
    "    </ul>\n",
    "</div>\n"
   ]
  },
  {
   "cell_type": "markdown",
   "id": "90e1cea8",
   "metadata": {},
   "source": [
    "<img src=\"images/install.png\" alt=\"this slowpoke moves\"  width=\"1000\" />"
   ]
  },
  {
   "cell_type": "code",
   "execution_count": 2,
   "id": "a38ef77b",
   "metadata": {},
   "outputs": [
    {
     "data": {
      "text/plain": [
       "'1.23.2'"
      ]
     },
     "execution_count": 2,
     "metadata": {},
     "output_type": "execute_result"
    }
   ],
   "source": [
    "import numpy\n",
    "numpy.__version__"
   ]
  },
  {
   "cell_type": "code",
   "execution_count": 3,
   "id": "50d92067",
   "metadata": {},
   "outputs": [],
   "source": [
    "import numpy as np"
   ]
  },
  {
   "cell_type": "markdown",
   "id": "db42b9b1",
   "metadata": {},
   "source": [
    "<img src=\"images/array-axis1.png\" alt=\"array axis\"  width=\"800\" />"
   ]
  },
  {
   "cell_type": "markdown",
   "id": "8f237cd7",
   "metadata": {},
   "source": [
    "<img src=\"images/numpy_data_types.png\" alt=\"array axis\"  width=\"500\" />"
   ]
  },
  {
   "cell_type": "markdown",
   "id": "ef27ba92",
   "metadata": {},
   "source": [
    "## Creating Arrays from Python Lists"
   ]
  },
  {
   "cell_type": "code",
   "execution_count": 4,
   "id": "29d144b3",
   "metadata": {},
   "outputs": [
    {
     "data": {
      "text/plain": [
       "array([1, 4, 2, 5, 3])"
      ]
     },
     "execution_count": 4,
     "metadata": {},
     "output_type": "execute_result"
    }
   ],
   "source": [
    "# integer array:\n",
    "np.array([1, 4, 2, 5, 3])"
   ]
  },
  {
   "cell_type": "code",
   "execution_count": 5,
   "id": "62a577a3",
   "metadata": {},
   "outputs": [
    {
     "data": {
      "text/plain": [
       "array([3.14, 4.  , 2.  , 3.  ])"
      ]
     },
     "execution_count": 5,
     "metadata": {},
     "output_type": "execute_result"
    }
   ],
   "source": [
    "# float array:\n",
    "np.array([3.14, 4, 2, 3])"
   ]
  },
  {
   "cell_type": "code",
   "execution_count": 6,
   "id": "d998c9ea",
   "metadata": {},
   "outputs": [
    {
     "data": {
      "text/plain": [
       "array([1., 2., 3., 4.], dtype=float32)"
      ]
     },
     "execution_count": 6,
     "metadata": {},
     "output_type": "execute_result"
    }
   ],
   "source": [
    "# float array:\n",
    "np.array([1, 2, 3, 4], dtype='float32')"
   ]
  },
  {
   "cell_type": "code",
   "execution_count": 7,
   "id": "e7598427",
   "metadata": {},
   "outputs": [
    {
     "data": {
      "text/plain": [
       "[10, 11, 12, 13, 14, 15, 16, 17, 18, 19]"
      ]
     },
     "execution_count": 7,
     "metadata": {},
     "output_type": "execute_result"
    }
   ],
   "source": [
    "[i for i in range(10,20)]"
   ]
  },
  {
   "cell_type": "code",
   "execution_count": 8,
   "id": "b19d0484",
   "metadata": {},
   "outputs": [
    {
     "data": {
      "text/plain": [
       "array([[2, 3, 4],\n",
       "       [4, 5, 6],\n",
       "       [6, 7, 8]])"
      ]
     },
     "execution_count": 8,
     "metadata": {},
     "output_type": "execute_result"
    }
   ],
   "source": [
    "# nested lists result in multi-dimensional arrays\n",
    "np.array([range(i, i + 3) for i in [2, 4, 6]])"
   ]
  },
  {
   "cell_type": "code",
   "execution_count": 5,
   "id": "e508cc6b",
   "metadata": {},
   "outputs": [
    {
     "data": {
      "text/plain": [
       "array([[1, 2, 3],\n",
       "       [4, 5, 6]])"
      ]
     },
     "execution_count": 5,
     "metadata": {},
     "output_type": "execute_result"
    }
   ],
   "source": [
    "#2D array:\n",
    "np.array([\n",
    "    [1, 2, 3], \n",
    "    [4, 5, 6]\n",
    "])"
   ]
  },
  {
   "cell_type": "code",
   "execution_count": 6,
   "id": "0cadea30",
   "metadata": {},
   "outputs": [
    {
     "data": {
      "text/plain": [
       "array([[[ 1,  2,  3],\n",
       "        [ 4,  5,  6]],\n",
       "\n",
       "       [[ 7,  8,  9],\n",
       "        [10, 11, 12]]])"
      ]
     },
     "execution_count": 6,
     "metadata": {},
     "output_type": "execute_result"
    }
   ],
   "source": [
    "#3D array:\n",
    "np.array([\n",
    "    [[1, 2, 3], \n",
    "    [4, 5, 6]],\n",
    "    [[7, 8, 9], \n",
    "    [10, 11, 12]]\n",
    "    \n",
    "])"
   ]
  },
  {
   "cell_type": "markdown",
   "id": "42750621",
   "metadata": {},
   "source": [
    "## Creating Arrays with numpy functions"
   ]
  },
  {
   "cell_type": "code",
   "execution_count": 11,
   "id": "fd0c4d74",
   "metadata": {},
   "outputs": [
    {
     "data": {
      "text/plain": [
       "array([0, 0, 0, 0, 0, 0, 0, 0, 0, 0])"
      ]
     },
     "execution_count": 11,
     "metadata": {},
     "output_type": "execute_result"
    }
   ],
   "source": [
    "# Create a length-10 integer array filled with zeros\n",
    "np.zeros(10, dtype=int)"
   ]
  },
  {
   "cell_type": "code",
   "execution_count": 10,
   "id": "9f7b1f9f",
   "metadata": {},
   "outputs": [
    {
     "data": {
      "text/plain": [
       "array([[1., 1., 1., 1., 1.],\n",
       "       [1., 1., 1., 1., 1.],\n",
       "       [1., 1., 1., 1., 1.]])"
      ]
     },
     "execution_count": 10,
     "metadata": {},
     "output_type": "execute_result"
    }
   ],
   "source": [
    "# Create a 3x5 floating-point array filled with ones\n",
    "np.ones((3, 5), dtype=float)"
   ]
  },
  {
   "cell_type": "code",
   "execution_count": 12,
   "id": "b8fd0280",
   "metadata": {},
   "outputs": [
    {
     "data": {
      "text/plain": [
       "array([[3.14, 3.14, 3.14, 3.14, 3.14],\n",
       "       [3.14, 3.14, 3.14, 3.14, 3.14],\n",
       "       [3.14, 3.14, 3.14, 3.14, 3.14]])"
      ]
     },
     "execution_count": 12,
     "metadata": {},
     "output_type": "execute_result"
    }
   ],
   "source": [
    "# Create a 3x5 array filled with 3.14\n",
    "np.full((3, 5), 3.14)"
   ]
  },
  {
   "cell_type": "code",
   "execution_count": 13,
   "id": "020b71f7",
   "metadata": {},
   "outputs": [
    {
     "data": {
      "text/plain": [
       "array([ 0,  2,  4,  6,  8, 10, 12, 14, 16, 18])"
      ]
     },
     "execution_count": 13,
     "metadata": {},
     "output_type": "execute_result"
    }
   ],
   "source": [
    "# Create an array filled with a linear sequence\n",
    "# Starting at 0, ending at 20, stepping by 2\n",
    "# (this is similar to the built-in range() function)\n",
    "np.arange(0, 20, 2)"
   ]
  },
  {
   "cell_type": "code",
   "execution_count": 15,
   "id": "5ca670b6",
   "metadata": {},
   "outputs": [
    {
     "data": {
      "text/plain": [
       "array([0., 1., 2., 3., 4., 5., 6., 7., 8., 9.])"
      ]
     },
     "execution_count": 15,
     "metadata": {},
     "output_type": "execute_result"
    }
   ],
   "source": [
    "# Create an array of five values evenly spaced between 0 and 1\n",
    "np.linspace(0, 9, 10)"
   ]
  },
  {
   "cell_type": "code",
   "execution_count": 4,
   "id": "2f5b47a1",
   "metadata": {},
   "outputs": [
    {
     "data": {
      "text/plain": [
       "array([[0.09541984, 0.58312801, 0.76309129],\n",
       "       [0.75735389, 0.66903106, 0.33338845],\n",
       "       [0.69504856, 0.85249559, 0.29678695]])"
      ]
     },
     "execution_count": 4,
     "metadata": {},
     "output_type": "execute_result"
    }
   ],
   "source": [
    "# Create a 3x3 array of uniformly distributed\n",
    "# random values between 0 and 1\n",
    "np.random.random((3, 3))"
   ]
  },
  {
   "cell_type": "code",
   "execution_count": 17,
   "id": "bd9c3abf",
   "metadata": {},
   "outputs": [
    {
     "data": {
      "text/plain": [
       "array([[7, 6],\n",
       "       [5, 2],\n",
       "       [1, 1],\n",
       "       [7, 6]])"
      ]
     },
     "execution_count": 17,
     "metadata": {},
     "output_type": "execute_result"
    }
   ],
   "source": [
    "# Create a 4x2 array of random integer numbers\n",
    "# random values between 0 and 1\n",
    "np.random.randint(1,10,(4,2), dtype=int)"
   ]
  },
  {
   "cell_type": "code",
   "execution_count": 15,
   "id": "7e90e3e1",
   "metadata": {},
   "outputs": [
    {
     "data": {
      "text/plain": [
       "array([[ 2.38053576, -1.32631239, -0.55804087],\n",
       "       [-0.6258745 ,  0.16272027,  1.74019706],\n",
       "       [-1.2549226 , -0.03289017,  2.01838047]])"
      ]
     },
     "execution_count": 15,
     "metadata": {},
     "output_type": "execute_result"
    }
   ],
   "source": [
    "# Create a 3x3 array of normally distributed random values\n",
    "# with mean 0 and standard deviation 1\n",
    "np.random.normal(0, 1, (3, 3))"
   ]
  },
  {
   "cell_type": "markdown",
   "id": "16f2389a",
   "metadata": {},
   "source": [
    "## NumPy Array Attributes"
   ]
  },
  {
   "cell_type": "code",
   "execution_count": 19,
   "id": "b1432fca",
   "metadata": {},
   "outputs": [],
   "source": [
    "x1 = np.random.randint(10, size=6)          # One-dimensional array\n",
    "x2 = np.random.randint(10, size=(3, 4))     # Two-dimensional array\n",
    "x3 = np.random.randint(10, size=(3, 4, 5))  # Three-dimensional array"
   ]
  },
  {
   "cell_type": "markdown",
   "id": "f8acdbcb",
   "metadata": {},
   "source": [
    "Each array has attributes <b>ndim</b> (the number of dimensions), <b>shape</b> (the size of each dimension), <b>size</b> (the total size of the array), and <b>dtype</b> (the data type of the array):"
   ]
  },
  {
   "cell_type": "code",
   "execution_count": 20,
   "id": "3d539021",
   "metadata": {},
   "outputs": [
    {
     "name": "stdout",
     "output_type": "stream",
     "text": [
      "x3 ndim:  3\n",
      "x3 shape: (3, 4, 5)\n",
      "x3 size:  60\n",
      "x3 dtype: int32\n"
     ]
    }
   ],
   "source": [
    "print(\"x3 ndim: \", x3.ndim)\n",
    "print(\"x3 shape:\", x3.shape)\n",
    "print(\"x3 size: \", x3.size)\n",
    "print(\"x3 dtype:\", x3.dtype)"
   ]
  },
  {
   "cell_type": "code",
   "execution_count": 21,
   "id": "7748bb23",
   "metadata": {},
   "outputs": [
    {
     "data": {
      "text/plain": [
       "array([[1., 2., 3.],\n",
       "       [4., 5., 6.]])"
      ]
     },
     "execution_count": 21,
     "metadata": {},
     "output_type": "execute_result"
    }
   ],
   "source": [
    "b = np.array([[1.0,2,3],[4,5,6]])\n",
    "b"
   ]
  },
  {
   "cell_type": "code",
   "execution_count": 22,
   "id": "8e2a765d",
   "metadata": {},
   "outputs": [
    {
     "name": "stdout",
     "output_type": "stream",
     "text": [
      "b shape:  (2, 3)\n",
      "b ndim:  2\n",
      "b dtype:  float64\n",
      "b size:  6\n"
     ]
    }
   ],
   "source": [
    "print(\"b shape: \",b.shape)\n",
    "print(\"b ndim: \",b.ndim)\n",
    "print(\"b dtype: \",b.dtype)\n",
    "print(\"b size: \",b.size)"
   ]
  },
  {
   "cell_type": "code",
   "execution_count": 20,
   "id": "76271e5e",
   "metadata": {},
   "outputs": [
    {
     "data": {
      "text/plain": [
       "array([[1.+0.j, 2.+0.j, 3.+0.j],\n",
       "       [4.+0.j, 5.+0.j, 0.+6.j]])"
      ]
     },
     "execution_count": 20,
     "metadata": {},
     "output_type": "execute_result"
    }
   ],
   "source": [
    "c = np.array([[1,2,3],[4,5,6j]])\n",
    "c"
   ]
  },
  {
   "cell_type": "code",
   "execution_count": 21,
   "id": "3db5015e",
   "metadata": {},
   "outputs": [
    {
     "name": "stdout",
     "output_type": "stream",
     "text": [
      "c shape:  (2, 3)\n",
      "c ndim:  2\n",
      "c dtype:  float64\n",
      "c size:  6\n"
     ]
    }
   ],
   "source": [
    "print(\"c shape: \",b.shape)\n",
    "print(\"c ndim: \",b.ndim)\n",
    "print(\"c dtype: \",b.dtype)\n",
    "print(\"c size: \",b.size)"
   ]
  },
  {
   "cell_type": "code",
   "execution_count": 22,
   "id": "240f3efd",
   "metadata": {},
   "outputs": [
    {
     "data": {
      "text/plain": [
       "array([[[1, 2, 3],\n",
       "        [4, 5, 6]],\n",
       "\n",
       "       [[1, 2, 3],\n",
       "        [4, 5, 6]]])"
      ]
     },
     "execution_count": 22,
     "metadata": {},
     "output_type": "execute_result"
    }
   ],
   "source": [
    "d = np.array([[1,2,3],[4,5,6]])\n",
    "e = np.array([[1,2,3],[4,5,6]])\n",
    "f = np.array([d,e])\n",
    "f"
   ]
  },
  {
   "cell_type": "code",
   "execution_count": 23,
   "id": "00433c59",
   "metadata": {},
   "outputs": [
    {
     "name": "stdout",
     "output_type": "stream",
     "text": [
      "f shape:  (2, 3)\n",
      "f ndim:  2\n",
      "f dtype:  float64\n",
      "f size:  6\n"
     ]
    }
   ],
   "source": [
    "print(\"f shape: \",b.shape)\n",
    "print(\"f ndim: \",b.ndim)\n",
    "print(\"f dtype: \",b.dtype)\n",
    "print(\"f size: \",b.size)"
   ]
  },
  {
   "cell_type": "code",
   "execution_count": 18,
   "id": "a58e3447",
   "metadata": {},
   "outputs": [
    {
     "name": "stdout",
     "output_type": "stream",
     "text": [
      "<class 'numpy.ndarray'>\n",
      "<class 'numpy.ndarray'>\n",
      "<class 'numpy.ndarray'>\n",
      "<class 'numpy.ndarray'>\n"
     ]
    }
   ],
   "source": [
    "print(type(a))\n",
    "print(type(b))\n",
    "print(type(c))\n",
    "print(type(f))"
   ]
  },
  {
   "cell_type": "markdown",
   "id": "3f42d4bf",
   "metadata": {},
   "source": [
    "## Array Indexing: Accessing Single Elements"
   ]
  },
  {
   "cell_type": "code",
   "execution_count": 23,
   "id": "3c676eeb",
   "metadata": {},
   "outputs": [
    {
     "data": {
      "text/plain": [
       "array([ 1,  2,  3,  4,  5,  6,  7,  8,  9, 10, 11, 12, 13, 14, 15])"
      ]
     },
     "execution_count": 23,
     "metadata": {},
     "output_type": "execute_result"
    }
   ],
   "source": [
    "a = np.arange(1,16)\n",
    "a"
   ]
  },
  {
   "cell_type": "code",
   "execution_count": 24,
   "id": "e663453a",
   "metadata": {},
   "outputs": [
    {
     "name": "stdout",
     "output_type": "stream",
     "text": [
      "1\n",
      "13\n"
     ]
    }
   ],
   "source": [
    "print(a[0])\n",
    "print(a[-3])"
   ]
  },
  {
   "cell_type": "code",
   "execution_count": 25,
   "id": "017209a0",
   "metadata": {},
   "outputs": [
    {
     "data": {
      "text/plain": [
       "array([  1, 150,   3,   4,   5,   6,   7,   8,   9,  10,  11,  12,  13,\n",
       "        14,  15])"
      ]
     },
     "execution_count": 25,
     "metadata": {},
     "output_type": "execute_result"
    }
   ],
   "source": [
    "a[1] = 150\n",
    "a"
   ]
  },
  {
   "cell_type": "markdown",
   "id": "99d5fa8c",
   "metadata": {},
   "source": [
    "In a multi-dimensional array, items can be accessed using a comma-separated tuple of indices:"
   ]
  },
  {
   "cell_type": "code",
   "execution_count": 27,
   "id": "e3184f24",
   "metadata": {},
   "outputs": [
    {
     "data": {
      "text/plain": [
       "array([[ 1,  2,  3,  4,  5],\n",
       "       [ 6,  7,  8,  9, 10],\n",
       "       [11, 12, 13, 14, 15],\n",
       "       [16, 17, 18, 19, 20]])"
      ]
     },
     "execution_count": 27,
     "metadata": {},
     "output_type": "execute_result"
    }
   ],
   "source": [
    "b = np.arange(1,21)\n",
    "b.shape=(4,5)\n",
    "b"
   ]
  },
  {
   "cell_type": "code",
   "execution_count": 28,
   "id": "181c31f1",
   "metadata": {},
   "outputs": [
    {
     "data": {
      "text/plain": [
       "array([11, 12, 13, 14, 15])"
      ]
     },
     "execution_count": 28,
     "metadata": {},
     "output_type": "execute_result"
    }
   ],
   "source": [
    "b[2]"
   ]
  },
  {
   "cell_type": "code",
   "execution_count": 29,
   "id": "d5b21509",
   "metadata": {},
   "outputs": [
    {
     "data": {
      "text/plain": [
       "13"
      ]
     },
     "execution_count": 29,
     "metadata": {},
     "output_type": "execute_result"
    }
   ],
   "source": [
    "b[2][2]"
   ]
  },
  {
   "cell_type": "code",
   "execution_count": 30,
   "id": "0055d18c",
   "metadata": {},
   "outputs": [
    {
     "data": {
      "text/plain": [
       "13"
      ]
     },
     "execution_count": 30,
     "metadata": {},
     "output_type": "execute_result"
    }
   ],
   "source": [
    "b[2,2]"
   ]
  },
  {
   "cell_type": "markdown",
   "id": "22b09363",
   "metadata": {},
   "source": [
    "<img src=\"images/slice.png\" alt=\"array axis\"  width=\"500\" />"
   ]
  },
  {
   "cell_type": "markdown",
   "id": "9d252f68",
   "metadata": {},
   "source": [
    "## Array Slicing: Accessing Subarrays"
   ]
  },
  {
   "cell_type": "markdown",
   "id": "4cc37a85",
   "metadata": {},
   "source": [
    "x[start=0:stop=0:step=0]"
   ]
  },
  {
   "cell_type": "markdown",
   "id": "0b262f12",
   "metadata": {},
   "source": [
    "### One-dimensional subarrays"
   ]
  },
  {
   "cell_type": "code",
   "execution_count": 31,
   "id": "61633964",
   "metadata": {},
   "outputs": [
    {
     "data": {
      "text/plain": [
       "array([0, 1, 2, 3, 4, 5, 6, 7, 8, 9])"
      ]
     },
     "execution_count": 31,
     "metadata": {},
     "output_type": "execute_result"
    }
   ],
   "source": [
    "x = np.arange(10)\n",
    "x"
   ]
  },
  {
   "cell_type": "code",
   "execution_count": 32,
   "id": "9ee12b7f",
   "metadata": {},
   "outputs": [
    {
     "data": {
      "text/plain": [
       "array([0, 1, 2, 3, 4])"
      ]
     },
     "execution_count": 32,
     "metadata": {},
     "output_type": "execute_result"
    }
   ],
   "source": [
    "x[:5]  # first five elements"
   ]
  },
  {
   "cell_type": "code",
   "execution_count": 33,
   "id": "9a86325a",
   "metadata": {},
   "outputs": [
    {
     "data": {
      "text/plain": [
       "array([4, 5, 6])"
      ]
     },
     "execution_count": 33,
     "metadata": {},
     "output_type": "execute_result"
    }
   ],
   "source": [
    "x[4:7]  # middle sub-array"
   ]
  },
  {
   "cell_type": "code",
   "execution_count": 34,
   "id": "8f7fbd1f",
   "metadata": {},
   "outputs": [
    {
     "data": {
      "text/plain": [
       "array([0, 2, 4, 6, 8])"
      ]
     },
     "execution_count": 34,
     "metadata": {},
     "output_type": "execute_result"
    }
   ],
   "source": [
    "x[::2]  # every other element"
   ]
  },
  {
   "cell_type": "code",
   "execution_count": 35,
   "id": "d5924056",
   "metadata": {},
   "outputs": [
    {
     "data": {
      "text/plain": [
       "array([1, 3, 5, 7, 9])"
      ]
     },
     "execution_count": 35,
     "metadata": {},
     "output_type": "execute_result"
    }
   ],
   "source": [
    "x[1::2]  # every other element, starting at index 1"
   ]
  },
  {
   "cell_type": "code",
   "execution_count": 36,
   "id": "50c4904b",
   "metadata": {},
   "outputs": [
    {
     "data": {
      "text/plain": [
       "array([9, 8, 7, 6, 5, 4, 3, 2, 1, 0])"
      ]
     },
     "execution_count": 36,
     "metadata": {},
     "output_type": "execute_result"
    }
   ],
   "source": [
    "x[::-1]  # all elements, reversed"
   ]
  },
  {
   "cell_type": "markdown",
   "id": "8bdb4fbb",
   "metadata": {},
   "source": [
    "### Multi-dimensional subarrays"
   ]
  },
  {
   "cell_type": "code",
   "execution_count": 5,
   "id": "9190121d",
   "metadata": {},
   "outputs": [
    {
     "data": {
      "text/plain": [
       "array([[5, 3, 0, 3],\n",
       "       [2, 0, 5, 0],\n",
       "       [5, 1, 6, 4]])"
      ]
     },
     "execution_count": 5,
     "metadata": {},
     "output_type": "execute_result"
    }
   ],
   "source": [
    "x2 = np.random.randint(10, size=(3, 4))\n",
    "x2"
   ]
  },
  {
   "cell_type": "code",
   "execution_count": 6,
   "id": "1d0f7925",
   "metadata": {},
   "outputs": [
    {
     "data": {
      "text/plain": [
       "array([[5, 3, 0],\n",
       "       [2, 0, 5]])"
      ]
     },
     "execution_count": 6,
     "metadata": {},
     "output_type": "execute_result"
    }
   ],
   "source": [
    "x2[:2, :3]  # two rows, three columns"
   ]
  },
  {
   "cell_type": "code",
   "execution_count": 7,
   "id": "1c8a9307",
   "metadata": {},
   "outputs": [
    {
     "data": {
      "text/plain": [
       "array([[5, 0],\n",
       "       [2, 5],\n",
       "       [5, 6]])"
      ]
     },
     "execution_count": 7,
     "metadata": {},
     "output_type": "execute_result"
    }
   ],
   "source": [
    "x2[:3, ::2]  # all rows, every other column"
   ]
  },
  {
   "cell_type": "code",
   "execution_count": 8,
   "id": "fb2a7939",
   "metadata": {},
   "outputs": [
    {
     "data": {
      "text/plain": [
       "array([[4, 6, 1, 5],\n",
       "       [0, 5, 0, 2],\n",
       "       [3, 0, 3, 5]])"
      ]
     },
     "execution_count": 8,
     "metadata": {},
     "output_type": "execute_result"
    }
   ],
   "source": [
    "x2[::-1, ::-1]"
   ]
  },
  {
   "cell_type": "code",
   "execution_count": 9,
   "id": "d5629dc8",
   "metadata": {},
   "outputs": [
    {
     "name": "stdout",
     "output_type": "stream",
     "text": [
      "[5 2 5]\n"
     ]
    }
   ],
   "source": [
    "print(x2[:, 0])  # first column of x2"
   ]
  },
  {
   "cell_type": "code",
   "execution_count": 10,
   "id": "259f0d32",
   "metadata": {},
   "outputs": [
    {
     "name": "stdout",
     "output_type": "stream",
     "text": [
      "[5 3 0 3]\n"
     ]
    }
   ],
   "source": [
    "print(x2[0, :])  # first row of x2"
   ]
  },
  {
   "cell_type": "code",
   "execution_count": 11,
   "id": "0646e030",
   "metadata": {},
   "outputs": [
    {
     "name": "stdout",
     "output_type": "stream",
     "text": [
      "[5 3 0 3]\n"
     ]
    }
   ],
   "source": [
    "print(x2[0])  # equivalent to x2[0, :]"
   ]
  },
  {
   "cell_type": "code",
   "execution_count": 13,
   "id": "759bdf93",
   "metadata": {},
   "outputs": [
    {
     "data": {
      "text/plain": [
       "array([[5, 3],\n",
       "       [2, 0],\n",
       "       [5, 1]])"
      ]
     },
     "execution_count": 13,
     "metadata": {},
     "output_type": "execute_result"
    }
   ],
   "source": [
    "# دوتای اول همه این سطرها رو چاپ کن\n",
    "x2[:,0:2]"
   ]
  },
  {
   "cell_type": "code",
   "execution_count": 41,
   "id": "4624b6b2",
   "metadata": {},
   "outputs": [
    {
     "data": {
      "text/plain": [
       "array([[[3, 3, 6, 1],\n",
       "        [3, 7, 6, 1],\n",
       "        [1, 2, 4, 3]],\n",
       "\n",
       "       [[7, 8, 1, 2],\n",
       "        [1, 5, 6, 5],\n",
       "        [3, 1, 2, 3]]])"
      ]
     },
     "execution_count": 41,
     "metadata": {},
     "output_type": "execute_result"
    }
   ],
   "source": [
    "c = np.random.randint(1,9,size=(2,3,4))\n",
    "c"
   ]
  },
  {
   "cell_type": "code",
   "execution_count": 42,
   "id": "d1165190",
   "metadata": {},
   "outputs": [
    {
     "data": {
      "text/plain": [
       "array([[3, 3, 6, 1],\n",
       "       [3, 7, 6, 1],\n",
       "       [1, 2, 4, 3]])"
      ]
     },
     "execution_count": 42,
     "metadata": {},
     "output_type": "execute_result"
    }
   ],
   "source": [
    "c[0]"
   ]
  },
  {
   "cell_type": "code",
   "execution_count": 43,
   "id": "72c27e9f",
   "metadata": {},
   "outputs": [
    {
     "data": {
      "text/plain": [
       "array([3, 7, 6, 1])"
      ]
     },
     "execution_count": 43,
     "metadata": {},
     "output_type": "execute_result"
    }
   ],
   "source": [
    "c[0][1]"
   ]
  },
  {
   "cell_type": "code",
   "execution_count": 44,
   "id": "105c5e3c",
   "metadata": {},
   "outputs": [
    {
     "data": {
      "text/plain": [
       "1"
      ]
     },
     "execution_count": 44,
     "metadata": {},
     "output_type": "execute_result"
    }
   ],
   "source": [
    "c[0][1][-1]"
   ]
  },
  {
   "cell_type": "code",
   "execution_count": 32,
   "id": "c5533368",
   "metadata": {},
   "outputs": [
    {
     "data": {
      "text/plain": [
       "2"
      ]
     },
     "execution_count": 32,
     "metadata": {},
     "output_type": "execute_result"
    }
   ],
   "source": [
    "c[1, 1, 2]"
   ]
  },
  {
   "cell_type": "code",
   "execution_count": 33,
   "id": "6429ff1c",
   "metadata": {},
   "outputs": [
    {
     "data": {
      "text/plain": [
       "array([[[3, 6],\n",
       "        [8, 7],\n",
       "        [2, 7]],\n",
       "\n",
       "       [[2, 4],\n",
       "        [2, 3],\n",
       "        [7, 2]]])"
      ]
     },
     "execution_count": 33,
     "metadata": {},
     "output_type": "execute_result"
    }
   ],
   "source": [
    "c[:, :, -2:]"
   ]
  },
  {
   "cell_type": "markdown",
   "id": "6033fbc7",
   "metadata": {},
   "source": [
    "## Get unique values"
   ]
  },
  {
   "cell_type": "code",
   "execution_count": 45,
   "id": "de67e6ae",
   "metadata": {},
   "outputs": [
    {
     "data": {
      "text/plain": [
       "array([20, 77, 83, 74, 53,  4, 96, 82, 82, 42, 79, 36, 89,  6, 14, 43, 84,\n",
       "       20, 58, 19, 72, 61, 10, 20, 24, 69,  8,  5, 88, 52, 99,  6, 92, 93,\n",
       "       47, 20,  6, 25, 65, 45, 34, 79, 77, 58, 54,  5, 35, 31, 26,  4, 38,\n",
       "       60, 25, 66, 79, 88, 96, 51, 75, 12])"
      ]
     },
     "execution_count": 45,
     "metadata": {},
     "output_type": "execute_result"
    }
   ],
   "source": [
    "a=np.random.randint(1,100,size=60)\n",
    "a"
   ]
  },
  {
   "cell_type": "code",
   "execution_count": 46,
   "id": "1c6f20df",
   "metadata": {},
   "outputs": [
    {
     "data": {
      "text/plain": [
       "array([[[20, 77, 83, 74, 53,  4],\n",
       "        [96, 82, 82, 42, 79, 36],\n",
       "        [89,  6, 14, 43, 84, 20],\n",
       "        [58, 19, 72, 61, 10, 20],\n",
       "        [24, 69,  8,  5, 88, 52]],\n",
       "\n",
       "       [[99,  6, 92, 93, 47, 20],\n",
       "        [ 6, 25, 65, 45, 34, 79],\n",
       "        [77, 58, 54,  5, 35, 31],\n",
       "        [26,  4, 38, 60, 25, 66],\n",
       "        [79, 88, 96, 51, 75, 12]]])"
      ]
     },
     "execution_count": 46,
     "metadata": {},
     "output_type": "execute_result"
    }
   ],
   "source": [
    "a=a.reshape((2,5,6))\n",
    "a"
   ]
  },
  {
   "cell_type": "code",
   "execution_count": 47,
   "id": "bb303693",
   "metadata": {},
   "outputs": [
    {
     "data": {
      "text/plain": [
       "array([ 4,  5,  6,  8, 10, 12, 14, 19, 20, 24, 25, 26, 31, 34, 35, 36, 38,\n",
       "       42, 43, 45, 47, 51, 52, 53, 54, 58, 60, 61, 65, 66, 69, 72, 74, 75,\n",
       "       77, 79, 82, 83, 84, 88, 89, 92, 93, 96, 99])"
      ]
     },
     "execution_count": 47,
     "metadata": {},
     "output_type": "execute_result"
    }
   ],
   "source": [
    "unique_array = np.unique(a)\n",
    "unique_array"
   ]
  },
  {
   "cell_type": "markdown",
   "id": "ece0b3ec",
   "metadata": {},
   "source": [
    "## Mask"
   ]
  },
  {
   "cell_type": "code",
   "execution_count": 48,
   "id": "18000ba2",
   "metadata": {},
   "outputs": [
    {
     "data": {
      "text/plain": [
       "array([77, 83, 74, 53, 96, 82, 82, 42, 79, 36, 89, 43, 84, 58, 72, 61, 69,\n",
       "       88, 52, 99, 92, 93, 47, 65, 45, 34, 79, 77, 58, 54, 35, 31, 38, 60,\n",
       "       66, 79, 88, 96, 51, 75])"
      ]
     },
     "execution_count": 48,
     "metadata": {},
     "output_type": "execute_result"
    }
   ],
   "source": [
    "a[a>30]         # dakhele bracket ebarathaye sharti"
   ]
  },
  {
   "cell_type": "markdown",
   "id": "1628df50",
   "metadata": {},
   "source": [
    "<img src=\"images/mask.gif\" alt=\"broadcasting\"  width=\"700\" />"
   ]
  },
  {
   "cell_type": "code",
   "execution_count": 49,
   "id": "d157898f",
   "metadata": {},
   "outputs": [
    {
     "data": {
      "text/plain": [
       "array([[[False,  True,  True,  True,  True, False],\n",
       "        [ True,  True,  True,  True,  True,  True],\n",
       "        [ True, False, False,  True,  True, False],\n",
       "        [ True, False,  True,  True, False, False],\n",
       "        [False,  True, False, False,  True,  True]],\n",
       "\n",
       "       [[ True, False,  True,  True,  True, False],\n",
       "        [False, False,  True,  True,  True,  True],\n",
       "        [ True,  True,  True, False,  True,  True],\n",
       "        [False, False,  True,  True, False,  True],\n",
       "        [ True,  True,  True,  True,  True, False]]])"
      ]
     },
     "execution_count": 49,
     "metadata": {},
     "output_type": "execute_result"
    }
   ],
   "source": [
    "greater_than_30 = a > 30        # mask    in shart ro emal mikone ruye araye \n",
    "greater_than_30"
   ]
  },
  {
   "cell_type": "code",
   "execution_count": 50,
   "id": "441d1f7d",
   "metadata": {},
   "outputs": [
    {
     "data": {
      "text/plain": [
       "array([77, 83, 74, 53, 96, 82, 82, 42, 79, 36, 89, 43, 84, 58, 72, 61, 69,\n",
       "       88, 52, 99, 92, 93, 47, 65, 45, 34, 79, 77, 58, 54, 35, 31, 38, 60,\n",
       "       66, 79, 88, 96, 51, 75])"
      ]
     },
     "execution_count": 50,
     "metadata": {},
     "output_type": "execute_result"
    }
   ],
   "source": [
    "a[greater_than_30]"
   ]
  },
  {
   "cell_type": "code",
   "execution_count": 52,
   "id": "ffd52d3b",
   "metadata": {},
   "outputs": [
    {
     "data": {
      "text/plain": [
       "array([[[ True, False, False,  True, False,  True],\n",
       "        [ True,  True,  True,  True, False,  True],\n",
       "        [False,  True,  True, False,  True,  True],\n",
       "        [ True, False,  True, False,  True,  True],\n",
       "        [ True, False,  True, False,  True,  True]],\n",
       "\n",
       "       [[False,  True,  True, False, False,  True],\n",
       "        [ True, False, False, False,  True, False],\n",
       "        [False,  True,  True, False, False, False],\n",
       "        [ True,  True,  True,  True, False,  True],\n",
       "        [False,  True,  True, False, False,  True]]])"
      ]
     },
     "execution_count": 52,
     "metadata": {},
     "output_type": "execute_result"
    }
   ],
   "source": [
    "even_elements = a % 2 ==0\n",
    "even_elements"
   ]
  },
  {
   "cell_type": "code",
   "execution_count": 54,
   "id": "5d818611",
   "metadata": {},
   "outputs": [
    {
     "data": {
      "text/plain": [
       "array([74, 96, 82, 82, 42, 36, 84, 58, 72, 88, 52, 92, 34, 58, 54, 38, 60,\n",
       "       66, 88, 96])"
      ]
     },
     "execution_count": 54,
     "metadata": {},
     "output_type": "execute_result"
    }
   ],
   "source": [
    "final_mask = np.logical_and(greater_than_30,even_elements)\n",
    "a[final_mask]"
   ]
  },
  {
   "cell_type": "markdown",
   "id": "3919493d",
   "metadata": {},
   "source": [
    "<img src=\"images/mask.png\" alt=\"array axis\"  width=\"800\" />"
   ]
  },
  {
   "cell_type": "markdown",
   "id": "4c74cb53",
   "metadata": {},
   "source": [
    "## Broadcasting"
   ]
  },
  {
   "cell_type": "markdown",
   "id": "bdc2213c",
   "metadata": {},
   "source": [
    "<H3 style=\"direction:rtl\"><font color=\"blue\" face=\"IRANSans\">Broadcasting یا انتشار همگانی در Numpy</font></H3>\n",
    "<div style=\"direction:rtl;font-family:vazir;margin:10px 0;\" face=\"IRANSans\">\n",
    "    <ul>\n",
    "        <li style=\"margin:3px 0;\"> واژه‌ی Broadcasting به چگونگی رفتار Numpy با آرایه‌هایی با Shape متفاوت در خلال عملگرهای محاسباتی اشاره دارد. </li>\n",
    "        <li style=\"margin:3px 0;\"> به طور خلاصه، آرایه‌ی کوچکتر به اندازه‌ی آرایه‌ی بزرگتر پخش می‌شود تا به شکل و Shape یکسانی با آن تبدیل شود.  </li>\n",
    "        <li style=\"margin:3px 0;\"><b> قانون Broadcasting</b>: باید اندازه‌ی محور نهایی یا آخر (یا همان مقدار آخرین Shape)، در هر دو آرایه‌ داده‌ یکسان باشد؛ یا مقدار بُعد آخرِ حداقل یکی از آرایه‌ها برابر یک باشد. </li>\n",
    "\n",
    "</div>\n",
    "\n",
    "\n"
   ]
  },
  {
   "cell_type": "markdown",
   "id": "cae84486",
   "metadata": {},
   "source": [
    "<img src=\"images/02.05-broadcasting.png\" alt=\"broadcasting\"  width=\"500\" />"
   ]
  },
  {
   "cell_type": "markdown",
   "id": "7a4eedbf",
   "metadata": {},
   "source": [
    "<img src=\"images/broadcasting-3d-scalar.gif\" alt=\"broadcasting\"  width=\"500\" />"
   ]
  },
  {
   "cell_type": "markdown",
   "id": "4f8cc24e",
   "metadata": {},
   "source": [
    "<img src=\"images/broadcasting-col-row.gif\" alt=\"broadcasting\"  width=\"500\" />"
   ]
  },
  {
   "cell_type": "code",
   "execution_count": 55,
   "id": "1afb452a",
   "metadata": {},
   "outputs": [
    {
     "data": {
      "text/plain": [
       "array([0, 1, 2, 3, 4])"
      ]
     },
     "execution_count": 55,
     "metadata": {},
     "output_type": "execute_result"
    }
   ],
   "source": [
    "# Broadcasting\n",
    "a= np.arange(5)\n",
    "a"
   ]
  },
  {
   "cell_type": "code",
   "execution_count": 56,
   "id": "29e245f6",
   "metadata": {},
   "outputs": [
    {
     "data": {
      "text/plain": [
       "array([4, 5, 6, 7, 8])"
      ]
     },
     "execution_count": 56,
     "metadata": {},
     "output_type": "execute_result"
    }
   ],
   "source": [
    "a+4"
   ]
  },
  {
   "cell_type": "code",
   "execution_count": 57,
   "id": "754c3d03",
   "metadata": {},
   "outputs": [
    {
     "data": {
      "text/plain": [
       "array([[1, 3, 6, 5, 3]])"
      ]
     },
     "execution_count": 57,
     "metadata": {},
     "output_type": "execute_result"
    }
   ],
   "source": [
    "b=np.random.randint(1,9,size=5).reshape((1,5))\n",
    "b"
   ]
  },
  {
   "cell_type": "code",
   "execution_count": 58,
   "id": "3d329816",
   "metadata": {},
   "outputs": [
    {
     "data": {
      "text/plain": [
       "array([[1, 4, 8, 8, 7]])"
      ]
     },
     "execution_count": 58,
     "metadata": {},
     "output_type": "execute_result"
    }
   ],
   "source": [
    "a+b"
   ]
  },
  {
   "cell_type": "code",
   "execution_count": 50,
   "id": "8dfa6a56",
   "metadata": {},
   "outputs": [
    {
     "data": {
      "text/plain": [
       "array([[-7, -7,  1,  2, -3]])"
      ]
     },
     "execution_count": 50,
     "metadata": {},
     "output_type": "execute_result"
    }
   ],
   "source": [
    "a-b"
   ]
  },
  {
   "cell_type": "code",
   "execution_count": 51,
   "id": "2b8f0686",
   "metadata": {},
   "outputs": [
    {
     "data": {
      "text/plain": [
       "array([[ 0,  8,  2,  3, 28]])"
      ]
     },
     "execution_count": 51,
     "metadata": {},
     "output_type": "execute_result"
    }
   ],
   "source": [
    "a*b"
   ]
  },
  {
   "cell_type": "code",
   "execution_count": 52,
   "id": "5d41fdec",
   "metadata": {},
   "outputs": [
    {
     "data": {
      "text/plain": [
       "array([[0.        , 0.125     , 2.        , 3.        , 0.57142857]])"
      ]
     },
     "execution_count": 52,
     "metadata": {},
     "output_type": "execute_result"
    }
   ],
   "source": [
    "a/b"
   ]
  },
  {
   "cell_type": "code",
   "execution_count": 53,
   "id": "8bded602",
   "metadata": {},
   "outputs": [
    {
     "data": {
      "text/plain": [
       "array([[0, 1, 0, 0, 4]], dtype=int32)"
      ]
     },
     "execution_count": 53,
     "metadata": {},
     "output_type": "execute_result"
    }
   ],
   "source": [
    "a%b"
   ]
  },
  {
   "cell_type": "code",
   "execution_count": 54,
   "id": "db2d47cf",
   "metadata": {},
   "outputs": [
    {
     "data": {
      "text/plain": [
       "array([[0, 0, 2, 3, 0]], dtype=int32)"
      ]
     },
     "execution_count": 54,
     "metadata": {},
     "output_type": "execute_result"
    }
   ],
   "source": [
    "a//b"
   ]
  },
  {
   "cell_type": "code",
   "execution_count": 59,
   "id": "b4fdabd4",
   "metadata": {},
   "outputs": [
    {
     "data": {
      "text/plain": [
       "array([[18, 96, 89, 30, 12, 91, 13, 35, 67, 70],\n",
       "       [48,  3, 17, 98, 37, 23, 39, 46, 22, 10],\n",
       "       [55, 78, 63, 92, 73, 21,  4,  1, 65, 89],\n",
       "       [78, 45, 46, 85, 98, 95, 88, 21,  2, 21],\n",
       "       [20, 57, 43, 83, 74, 40, 37, 81,  2, 80]])"
      ]
     },
     "execution_count": 59,
     "metadata": {},
     "output_type": "execute_result"
    }
   ],
   "source": [
    "c=np.random.randint(1,99,size=50).reshape((5,10))\n",
    "c"
   ]
  },
  {
   "cell_type": "code",
   "execution_count": 61,
   "id": "c04aa984",
   "metadata": {},
   "outputs": [
    {
     "name": "stdout",
     "output_type": "stream",
     "text": [
      "(1, 5) (5, 10)\n"
     ]
    }
   ],
   "source": [
    "print(b.shape,c.shape)"
   ]
  },
  {
   "cell_type": "code",
   "execution_count": 60,
   "id": "42ddd779",
   "metadata": {},
   "outputs": [
    {
     "ename": "ValueError",
     "evalue": "operands could not be broadcast together with shapes (1,5) (5,10) ",
     "output_type": "error",
     "traceback": [
      "\u001b[1;31m---------------------------------------------------------------------------\u001b[0m",
      "\u001b[1;31mValueError\u001b[0m                                Traceback (most recent call last)",
      "\u001b[1;32m<ipython-input-60-921cdd4e6dfb>\u001b[0m in \u001b[0;36m<module>\u001b[1;34m\u001b[0m\n\u001b[1;32m----> 1\u001b[1;33m \u001b[0mb\u001b[0m\u001b[1;33m+\u001b[0m\u001b[0mc\u001b[0m\u001b[1;33m\u001b[0m\u001b[1;33m\u001b[0m\u001b[0m\n\u001b[0m",
      "\u001b[1;31mValueError\u001b[0m: operands could not be broadcast together with shapes (1,5) (5,10) "
     ]
    }
   ],
   "source": [
    "b+c"
   ]
  },
  {
   "cell_type": "code",
   "execution_count": 62,
   "id": "a80eb262",
   "metadata": {},
   "outputs": [
    {
     "data": {
      "text/plain": [
       "array([[68, 70, 62, 74, 85],\n",
       "       [43, 61, 70, 90, 94],\n",
       "       [ 5, 53, 63, 78, 61],\n",
       "       [57, 22, 67, 43, 48],\n",
       "       [41, 30, 75, 63, 69],\n",
       "       [89, 84, 60, 34, 80],\n",
       "       [82, 29, 84, 60, 19],\n",
       "       [54, 19,  9, 28, 26],\n",
       "       [ 2, 13,  1, 28, 25],\n",
       "       [65, 98, 30, 17,  7]])"
      ]
     },
     "execution_count": 62,
     "metadata": {},
     "output_type": "execute_result"
    }
   ],
   "source": [
    "c=np.random.randint(1,99,size=50).reshape((10,5))\n",
    "c"
   ]
  },
  {
   "cell_type": "code",
   "execution_count": 58,
   "id": "23f28b53",
   "metadata": {},
   "outputs": [
    {
     "data": {
      "text/plain": [
       "array([[ 71,  62,  39,  79,  14],\n",
       "       [ 73,  10,  64,  42,  33],\n",
       "       [ 90,  14,  91,   9,  96],\n",
       "       [ 73,  88,  84,  93,  87],\n",
       "       [ 85, 104,  22,  50,  59],\n",
       "       [ 87,  94,  49,  56,  37],\n",
       "       [ 78,  24,  44,  97,  48],\n",
       "       [ 40,  85,  70,  85,  86],\n",
       "       [ 48,  68,  75,  52,  64],\n",
       "       [ 25,  83,  16,  71, 104]])"
      ]
     },
     "execution_count": 58,
     "metadata": {},
     "output_type": "execute_result"
    }
   ],
   "source": [
    "b+c"
   ]
  },
  {
   "cell_type": "code",
   "execution_count": 59,
   "id": "f088d2ef",
   "metadata": {},
   "outputs": [
    {
     "data": {
      "text/plain": [
       "array([[0],\n",
       "       [1],\n",
       "       [2],\n",
       "       [3],\n",
       "       [4]])"
      ]
     },
     "execution_count": 59,
     "metadata": {},
     "output_type": "execute_result"
    }
   ],
   "source": [
    "d=np.arange(5).reshape(5,1)\n",
    "d"
   ]
  },
  {
   "cell_type": "code",
   "execution_count": 60,
   "id": "625689ce",
   "metadata": {},
   "outputs": [
    {
     "data": {
      "text/plain": [
       "array([[ 7,  8,  1,  1,  7],\n",
       "       [ 8,  9,  2,  2,  8],\n",
       "       [ 9, 10,  3,  3,  9],\n",
       "       [10, 11,  4,  4, 10],\n",
       "       [11, 12,  5,  5, 11]])"
      ]
     },
     "execution_count": 60,
     "metadata": {},
     "output_type": "execute_result"
    }
   ],
   "source": [
    "b+d"
   ]
  },
  {
   "cell_type": "code",
   "execution_count": 63,
   "id": "f327c159",
   "metadata": {},
   "outputs": [
    {
     "data": {
      "text/plain": [
       "array([[[29, 63, 89, 45],\n",
       "        [96, 31, 37, 36],\n",
       "        [51, 24, 78,  3],\n",
       "        [15, 23,  7, 72],\n",
       "        [92, 10, 58, 22]],\n",
       "\n",
       "       [[79, 34, 82, 21],\n",
       "        [28, 15, 42, 19],\n",
       "        [64, 59, 69, 88],\n",
       "        [68, 78, 54, 39],\n",
       "        [12, 53, 53, 41]]])"
      ]
     },
     "execution_count": 63,
     "metadata": {},
     "output_type": "execute_result"
    }
   ],
   "source": [
    "e=np.random.randint(1,99,size=40).reshape((2,5,4))\n",
    "e"
   ]
  },
  {
   "cell_type": "code",
   "execution_count": 62,
   "id": "1ff93f44",
   "metadata": {},
   "outputs": [
    {
     "data": {
      "text/plain": [
       "array([[ 0,  1,  2,  3],\n",
       "       [ 4,  5,  6,  7],\n",
       "       [ 8,  9, 10, 11],\n",
       "       [12, 13, 14, 15],\n",
       "       [16, 17, 18, 19]])"
      ]
     },
     "execution_count": 62,
     "metadata": {},
     "output_type": "execute_result"
    }
   ],
   "source": [
    "array = np.arange(20).reshape(5,4)\n",
    "array"
   ]
  },
  {
   "cell_type": "code",
   "execution_count": 63,
   "id": "854f256f",
   "metadata": {},
   "outputs": [
    {
     "data": {
      "text/plain": [
       "array([[[ 59,  82,  79,  53],\n",
       "        [ 12,  83,  38,  71],\n",
       "        [ 76,  44,  62,  67],\n",
       "        [ 58, 103,  30, 106],\n",
       "        [ 39,  86,  27, 113]],\n",
       "\n",
       "       [[ 51,   8,  11,  50],\n",
       "        [ 32,  38,  26,  76],\n",
       "        [102,  30,  27, 108],\n",
       "        [ 74, 101,  87,  49],\n",
       "        [107,  77,  86,  41]]])"
      ]
     },
     "execution_count": 63,
     "metadata": {},
     "output_type": "execute_result"
    }
   ],
   "source": [
    "array+e"
   ]
  },
  {
   "cell_type": "markdown",
   "id": "836dfef3",
   "metadata": {},
   "source": [
    "## Numpy statistical functions "
   ]
  },
  {
   "cell_type": "code",
   "execution_count": 64,
   "id": "dba889b2",
   "metadata": {},
   "outputs": [
    {
     "data": {
      "text/plain": [
       "46.975"
      ]
     },
     "execution_count": 64,
     "metadata": {},
     "output_type": "execute_result"
    }
   ],
   "source": [
    "np.mean(e)"
   ]
  },
  {
   "cell_type": "code",
   "execution_count": 65,
   "id": "f572f9bd",
   "metadata": {},
   "outputs": [
    {
     "data": {
      "text/plain": [
       "43.5"
      ]
     },
     "execution_count": 65,
     "metadata": {},
     "output_type": "execute_result"
    }
   ],
   "source": [
    "np.median(e)"
   ]
  },
  {
   "cell_type": "code",
   "execution_count": 66,
   "id": "ac32f8f9",
   "metadata": {},
   "outputs": [
    {
     "data": {
      "text/plain": [
       "96"
      ]
     },
     "execution_count": 66,
     "metadata": {},
     "output_type": "execute_result"
    }
   ],
   "source": [
    "np.max(e)"
   ]
  },
  {
   "cell_type": "code",
   "execution_count": 67,
   "id": "11cd549c",
   "metadata": {},
   "outputs": [
    {
     "data": {
      "text/plain": [
       "3"
      ]
     },
     "execution_count": 67,
     "metadata": {},
     "output_type": "execute_result"
    }
   ],
   "source": [
    "np.min(e)"
   ]
  },
  {
   "cell_type": "markdown",
   "id": "2901d8d7",
   "metadata": {},
   "source": [
    "<img src=\"images/min-axis.PNG\" alt=\"broadcasting\"  width=\"400\" />"
   ]
  },
  {
   "cell_type": "code",
   "execution_count": 68,
   "id": "c4e08058",
   "metadata": {},
   "outputs": [
    {
     "data": {
      "text/plain": [
       "684.1743749999999"
      ]
     },
     "execution_count": 68,
     "metadata": {},
     "output_type": "execute_result"
    }
   ],
   "source": [
    "np.var(e)     # parakandegi anasor nesbat be miyangin"
   ]
  },
  {
   "cell_type": "code",
   "execution_count": 69,
   "id": "31ef326a",
   "metadata": {},
   "outputs": [
    {
     "data": {
      "text/plain": [
       "26.15672714618555"
      ]
     },
     "execution_count": 69,
     "metadata": {},
     "output_type": "execute_result"
    }
   ],
   "source": [
    "np.std(e)    # enheraf meyar"
   ]
  },
  {
   "cell_type": "code",
   "execution_count": 70,
   "id": "cef233f2",
   "metadata": {},
   "outputs": [
    {
     "data": {
      "text/plain": [
       "26.15672714618555"
      ]
     },
     "execution_count": 70,
     "metadata": {},
     "output_type": "execute_result"
    }
   ],
   "source": [
    "np.sqrt(np.var(e))"
   ]
  },
  {
   "cell_type": "code",
   "execution_count": 71,
   "id": "e6338760",
   "metadata": {},
   "outputs": [
    {
     "data": {
      "text/plain": [
       "array([1.        , 1.41421356, 1.73205081, 2.        , 2.23606798,\n",
       "       2.44948974, 2.64575131, 2.82842712, 3.        , 3.16227766])"
      ]
     },
     "execution_count": 71,
     "metadata": {},
     "output_type": "execute_result"
    }
   ],
   "source": [
    "first_array = np.arange(10) + 1\n",
    "final = np.sqrt(first_array)\n",
    "final"
   ]
  },
  {
   "cell_type": "code",
   "execution_count": 72,
   "id": "fedea1ef",
   "metadata": {},
   "outputs": [
    {
     "data": {
      "text/plain": [
       "46.975"
      ]
     },
     "execution_count": 72,
     "metadata": {},
     "output_type": "execute_result"
    }
   ],
   "source": [
    "np.sum(e)/e.size"
   ]
  },
  {
   "cell_type": "code",
   "execution_count": 73,
   "id": "1ed32ee1",
   "metadata": {},
   "outputs": [
    {
     "data": {
      "text/plain": [
       "array([0, 1, 2, 3, 4, 5, 6, 7, 8, 9])"
      ]
     },
     "execution_count": 73,
     "metadata": {},
     "output_type": "execute_result"
    }
   ],
   "source": [
    "a=np.arange(0,10)\n",
    "a"
   ]
  },
  {
   "cell_type": "code",
   "execution_count": 74,
   "id": "945071ea",
   "metadata": {},
   "outputs": [
    {
     "data": {
      "text/plain": [
       "True"
      ]
     },
     "execution_count": 74,
     "metadata": {},
     "output_type": "execute_result"
    }
   ],
   "source": [
    "np.any(a)"
   ]
  },
  {
   "cell_type": "markdown",
   "id": "f2d1e8b0",
   "metadata": {},
   "source": [
    "<img src=\"images/Other-aggregation-functions.PNG\" alt=\"broadcasting\"  width=\"500\" />"
   ]
  },
  {
   "cell_type": "markdown",
   "id": "399c9672",
   "metadata": {},
   "source": [
    "## Structered Array"
   ]
  },
  {
   "cell_type": "code",
   "execution_count": 72,
   "id": "9fa92158",
   "metadata": {},
   "outputs": [],
   "source": [
    "names = [\"Mohammad\",\"Ali\",\"Hadi\",\"Ehsan\"]\n",
    "ages = [20,15,25,28]\n",
    "cities = [\"tehran\", \"mashhad\",'yazd','tabriz']"
   ]
  },
  {
   "cell_type": "code",
   "execution_count": 75,
   "id": "6ec55f4a",
   "metadata": {},
   "outputs": [],
   "source": [
    "pattern = [(\"name\",\"U50\"),(\"age\",\"i4\"),(\"city\",\"U50\")]"
   ]
  },
  {
   "cell_type": "markdown",
   "id": "73d28c22",
   "metadata": {},
   "source": [
    "<img src=\"images/dtype.PNG\" alt=\"dtype\"  width=\"400\" />"
   ]
  },
  {
   "cell_type": "code",
   "execution_count": 76,
   "id": "6adc2b20",
   "metadata": {},
   "outputs": [
    {
     "data": {
      "text/plain": [
       "array([('', 0, ''), ('', 0, ''), ('', 0, ''), ('', 0, ''), ('', 0, '')],\n",
       "      dtype=[('name', '<U50'), ('age', '<i4'), ('city', '<U50')])"
      ]
     },
     "execution_count": 76,
     "metadata": {},
     "output_type": "execute_result"
    }
   ],
   "source": [
    "my_array = np.zeros(5, dtype=pattern)\n",
    "my_array"
   ]
  },
  {
   "cell_type": "code",
   "execution_count": 77,
   "id": "ec95d127",
   "metadata": {},
   "outputs": [
    {
     "data": {
      "text/plain": [
       "array([('mohammad', 24, 'tehran'), ('',  0, ''), ('',  0, ''),\n",
       "       ('',  0, ''), ('',  0, '')],\n",
       "      dtype=[('name', '<U50'), ('age', '<i4'), ('city', '<U50')])"
      ]
     },
     "execution_count": 77,
     "metadata": {},
     "output_type": "execute_result"
    }
   ],
   "source": [
    "my_array[0] = (\"mohammad\",24,\"tehran\")\n",
    "my_array"
   ]
  },
  {
   "cell_type": "code",
   "execution_count": 78,
   "id": "6cba6d48",
   "metadata": {},
   "outputs": [
    {
     "data": {
      "text/plain": [
       "array([('mohammad', 24, 'tehran'), ('',  0, ''), ('',  0, ''),\n",
       "       ('ehsan', 21, 'tabriz'), ('',  0, '')],\n",
       "      dtype=[('name', '<U50'), ('age', '<i4'), ('city', '<U50')])"
      ]
     },
     "execution_count": 78,
     "metadata": {},
     "output_type": "execute_result"
    }
   ],
   "source": [
    "my_array[3] = (\"ehsan\",21,\"tabriz\")\n",
    "my_array"
   ]
  },
  {
   "cell_type": "code",
   "execution_count": 79,
   "id": "fb8cac6d",
   "metadata": {},
   "outputs": [
    {
     "data": {
      "text/plain": [
       "array([24,  0,  0, 21,  0])"
      ]
     },
     "execution_count": 79,
     "metadata": {},
     "output_type": "execute_result"
    }
   ],
   "source": [
    "my_array['age']"
   ]
  },
  {
   "cell_type": "code",
   "execution_count": 80,
   "id": "513a673c",
   "metadata": {},
   "outputs": [
    {
     "data": {
      "text/plain": [
       "array([[[('', 0, ''), ('', 0, ''), ('', 0, ''), ('', 0, '')],\n",
       "        [('', 0, ''), ('', 0, ''), ('', 0, ''), ('', 0, '')],\n",
       "        [('', 0, ''), ('', 0, ''), ('', 0, ''), ('', 0, '')]],\n",
       "\n",
       "       [[('', 0, ''), ('', 0, ''), ('', 0, ''), ('', 0, '')],\n",
       "        [('', 0, ''), ('', 0, ''), ('', 0, ''), ('', 0, '')],\n",
       "        [('', 0, ''), ('', 0, ''), ('', 0, ''), ('', 0, '')]]],\n",
       "      dtype=[('name', '<U50'), ('age', '<i4'), ('city', '<U50')])"
      ]
     },
     "execution_count": 80,
     "metadata": {},
     "output_type": "execute_result"
    }
   ],
   "source": [
    "my_3D_array = np.zeros((2,3,4), dtype=pattern)\n",
    "my_3D_array"
   ]
  },
  {
   "cell_type": "code",
   "execution_count": 81,
   "id": "7a208c29",
   "metadata": {},
   "outputs": [
    {
     "data": {
      "text/plain": [
       "array([[[('',  0, ''), ('',  0, ''), ('',  0, ''), ('',  0, '')],\n",
       "        [('',  0, ''), ('',  0, ''), ('',  0, ''), ('',  0, '')],\n",
       "        [('',  0, ''), ('',  0, ''), ('',  0, ''), ('',  0, '')]],\n",
       "\n",
       "       [[('',  0, ''), ('',  0, ''), ('',  0, ''), ('',  0, '')],\n",
       "        [('',  0, ''), ('',  0, ''), ('',  0, ''), ('Ali', 30, 'yazd')],\n",
       "        [('',  0, ''), ('',  0, ''), ('',  0, ''), ('',  0, '')]]],\n",
       "      dtype=[('name', '<U50'), ('age', '<i4'), ('city', '<U50')])"
      ]
     },
     "execution_count": 81,
     "metadata": {},
     "output_type": "execute_result"
    }
   ],
   "source": [
    "my_3D_array[1,1,3] = (\"Ali\",30,\"yazd\")\n",
    "my_3D_array"
   ]
  },
  {
   "cell_type": "markdown",
   "id": "1bd5ce59",
   "metadata": {},
   "source": [
    "## Views & Copy"
   ]
  },
  {
   "cell_type": "code",
   "execution_count": 82,
   "id": "f1f077e1",
   "metadata": {},
   "outputs": [
    {
     "data": {
      "text/plain": [
       "array([[[ 1,  2,  3,  4],\n",
       "        [ 5,  6,  7,  8],\n",
       "        [ 9, 10, 11, 12]],\n",
       "\n",
       "       [[13, 14, 15, 16],\n",
       "        [17, 18, 19, 20],\n",
       "        [21, 22, 23, 24]]])"
      ]
     },
     "execution_count": 82,
     "metadata": {},
     "output_type": "execute_result"
    }
   ],
   "source": [
    "first_array = np.arange(1,25).reshape(2,3,4)\n",
    "first_array"
   ]
  },
  {
   "cell_type": "code",
   "execution_count": 83,
   "id": "566b6762",
   "metadata": {},
   "outputs": [
    {
     "data": {
      "text/plain": [
       "array([[[ 1,  2,  3,  4],\n",
       "        [ 5,  6,  7,  8],\n",
       "        [ 9, 10, 11, 12]],\n",
       "\n",
       "       [[13, 14, 15, 16],\n",
       "        [17, 18, 19, 20],\n",
       "        [21, 22, 23, 24]]])"
      ]
     },
     "execution_count": 83,
     "metadata": {},
     "output_type": "execute_result"
    }
   ],
   "source": [
    "second_array = first_array\n",
    "second_array"
   ]
  },
  {
   "cell_type": "code",
   "execution_count": 84,
   "id": "b7ac59a4",
   "metadata": {},
   "outputs": [
    {
     "data": {
      "text/plain": [
       "array([[[ True,  True,  True,  True],\n",
       "        [ True,  True,  True,  True],\n",
       "        [ True,  True,  True,  True]],\n",
       "\n",
       "       [[ True,  True,  True,  True],\n",
       "        [ True,  True,  True,  True],\n",
       "        [ True,  True,  True,  True]]])"
      ]
     },
     "execution_count": 84,
     "metadata": {},
     "output_type": "execute_result"
    }
   ],
   "source": [
    "second_array == first_array"
   ]
  },
  {
   "cell_type": "code",
   "execution_count": 85,
   "id": "f7827400",
   "metadata": {},
   "outputs": [
    {
     "data": {
      "text/plain": [
       "True"
      ]
     },
     "execution_count": 85,
     "metadata": {},
     "output_type": "execute_result"
    }
   ],
   "source": [
    "first_array is second_array       "
   ]
  },
  {
   "cell_type": "code",
   "execution_count": 86,
   "id": "79a62cee",
   "metadata": {},
   "outputs": [
    {
     "data": {
      "text/plain": [
       "(2233947418672, 2233947418672)"
      ]
     },
     "execution_count": 86,
     "metadata": {},
     "output_type": "execute_result"
    }
   ],
   "source": [
    "id(first_array),id(second_array)"
   ]
  },
  {
   "cell_type": "code",
   "execution_count": 87,
   "id": "dfcfe0cf",
   "metadata": {},
   "outputs": [
    {
     "data": {
      "text/plain": [
       "array([[[  1,   2,   3,   4],\n",
       "        [  5,   6,   7,   8],\n",
       "        [  9,  10,  11,  12]],\n",
       "\n",
       "       [[100,  14,  15,  16],\n",
       "        [ 17,  18,  19,  20],\n",
       "        [ 21,  22,  23,  24]]])"
      ]
     },
     "execution_count": 87,
     "metadata": {},
     "output_type": "execute_result"
    }
   ],
   "source": [
    "first_array[1,0,0] = 100\n",
    "first_array"
   ]
  },
  {
   "cell_type": "code",
   "execution_count": 88,
   "id": "030fe828",
   "metadata": {},
   "outputs": [
    {
     "data": {
      "text/plain": [
       "array([[[  1,   2,   3,   4],\n",
       "        [  5,   6,   7,   8],\n",
       "        [  9,  10,  11,  12]],\n",
       "\n",
       "       [[100,  14,  15,  16],\n",
       "        [ 17,  18,  19,  20],\n",
       "        [ 21,  22,  23,  24]]])"
      ]
     },
     "execution_count": 88,
     "metadata": {},
     "output_type": "execute_result"
    }
   ],
   "source": [
    "second_array"
   ]
  },
  {
   "cell_type": "code",
   "execution_count": 89,
   "id": "8e0fac66",
   "metadata": {},
   "outputs": [
    {
     "data": {
      "text/plain": [
       "array([[[  1,   2,   3,   4],\n",
       "        [  5,   6,   7,   8],\n",
       "        [  9,  10,  11,  12]],\n",
       "\n",
       "       [[100,  14,  15,  16],\n",
       "        [ 17,  18,  19,  20],\n",
       "        [ 21,  22,  23,  24]]])"
      ]
     },
     "execution_count": 89,
     "metadata": {},
     "output_type": "execute_result"
    }
   ],
   "source": [
    "third_array = first_array.view()\n",
    "third_array"
   ]
  },
  {
   "cell_type": "code",
   "execution_count": 90,
   "id": "acd0f9de",
   "metadata": {},
   "outputs": [
    {
     "data": {
      "text/plain": [
       "array([[[ True,  True,  True,  True],\n",
       "        [ True,  True,  True,  True],\n",
       "        [ True,  True,  True,  True]],\n",
       "\n",
       "       [[ True,  True,  True,  True],\n",
       "        [ True,  True,  True,  True],\n",
       "        [ True,  True,  True,  True]]])"
      ]
     },
     "execution_count": 90,
     "metadata": {},
     "output_type": "execute_result"
    }
   ],
   "source": [
    "third_array == first_array"
   ]
  },
  {
   "cell_type": "code",
   "execution_count": 91,
   "id": "d82b3c67",
   "metadata": {},
   "outputs": [
    {
     "data": {
      "text/plain": [
       "False"
      ]
     },
     "execution_count": 91,
     "metadata": {},
     "output_type": "execute_result"
    }
   ],
   "source": [
    "third_array is first_array"
   ]
  },
  {
   "cell_type": "code",
   "execution_count": 92,
   "id": "0adca6ef",
   "metadata": {},
   "outputs": [
    {
     "data": {
      "text/plain": [
       "(2233947420992, 2233947418672)"
      ]
     },
     "execution_count": 92,
     "metadata": {},
     "output_type": "execute_result"
    }
   ],
   "source": [
    "id(third_array), id(first_array)"
   ]
  },
  {
   "cell_type": "code",
   "execution_count": 93,
   "id": "9b71b12d",
   "metadata": {},
   "outputs": [
    {
     "data": {
      "text/plain": [
       "array([[[310,   2,   3,   4],\n",
       "        [  5,   6,   7,   8],\n",
       "        [  9,  10,  11,  12]],\n",
       "\n",
       "       [[100,  14,  15,  16],\n",
       "        [ 17,  18,  19,  20],\n",
       "        [ 21,  22,  23,  24]]])"
      ]
     },
     "execution_count": 93,
     "metadata": {},
     "output_type": "execute_result"
    }
   ],
   "source": [
    "first_array[0,0,0] = 310\n",
    "first_array"
   ]
  },
  {
   "cell_type": "code",
   "execution_count": 94,
   "id": "4fd4424b",
   "metadata": {},
   "outputs": [
    {
     "data": {
      "text/plain": [
       "array([[[310,   2,   3,   4],\n",
       "        [  5,   6,   7,   8],\n",
       "        [  9,  10,  11,  12]],\n",
       "\n",
       "       [[100,  14,  15,  16],\n",
       "        [ 17,  18,  19,  20],\n",
       "        [ 21,  22,  23,  24]]])"
      ]
     },
     "execution_count": 94,
     "metadata": {},
     "output_type": "execute_result"
    }
   ],
   "source": [
    "third_array         "
   ]
  },
  {
   "cell_type": "code",
   "execution_count": 95,
   "id": "73e5fd19",
   "metadata": {},
   "outputs": [
    {
     "data": {
      "text/plain": [
       "array([[[310,   2,   3,   4],\n",
       "        [  5,   6,   7,   8],\n",
       "        [  9,  10,  11,  12]],\n",
       "\n",
       "       [[100,  14,  15,  16],\n",
       "        [ 17,  18,  19,  20],\n",
       "        [ 21,  22,  23,  24]]])"
      ]
     },
     "execution_count": 95,
     "metadata": {},
     "output_type": "execute_result"
    }
   ],
   "source": [
    "forth_array = np.copy(first_array)            # deep copy\n",
    "forth_array"
   ]
  },
  {
   "cell_type": "code",
   "execution_count": 96,
   "id": "8c90c066",
   "metadata": {},
   "outputs": [
    {
     "data": {
      "text/plain": [
       "array([[[310, 120,   3,   4],\n",
       "        [  5,   6,   7,   8],\n",
       "        [  9,  10,  11,  12]],\n",
       "\n",
       "       [[100,  14,  15,  16],\n",
       "        [ 17,  18,  19,  20],\n",
       "        [ 21,  22,  23,  24]]])"
      ]
     },
     "execution_count": 96,
     "metadata": {},
     "output_type": "execute_result"
    }
   ],
   "source": [
    "forth_array[0,0,1] = 120\n",
    "forth_array"
   ]
  },
  {
   "cell_type": "code",
   "execution_count": 97,
   "id": "48da2640",
   "metadata": {},
   "outputs": [
    {
     "data": {
      "text/plain": [
       "array([[[310,   2,   3,   4],\n",
       "        [  5,   6,   7,   8],\n",
       "        [  9,  10,  11,  12]],\n",
       "\n",
       "       [[100,  14,  15,  16],\n",
       "        [ 17,  18,  19,  20],\n",
       "        [ 21,  22,  23,  24]]])"
      ]
     },
     "execution_count": 97,
     "metadata": {},
     "output_type": "execute_result"
    }
   ],
   "source": [
    "first_array"
   ]
  },
  {
   "cell_type": "markdown",
   "id": "0501ebdf",
   "metadata": {},
   "source": [
    "## Add And Remove Elements From Array"
   ]
  },
  {
   "cell_type": "code",
   "execution_count": 98,
   "id": "5f08f703",
   "metadata": {},
   "outputs": [
    {
     "data": {
      "text/plain": [
       "array([ 0,  1,  2,  3,  4,  5,  6,  7,  8,  9, 10, 12])"
      ]
     },
     "execution_count": 98,
     "metadata": {},
     "output_type": "execute_result"
    }
   ],
   "source": [
    "a = np.arange(10)\n",
    "b = np.append(a, [10, 12])\n",
    "b"
   ]
  },
  {
   "cell_type": "code",
   "execution_count": 99,
   "id": "980daabf",
   "metadata": {},
   "outputs": [
    {
     "data": {
      "text/plain": [
       "array([[[78, 52, 56, 44, 65,  1, 65, 82],\n",
       "        [ 3,  4, 64, 44, 68, 64, 71, 55],\n",
       "        [48, 30, 64,  1, 89, 82, 75, 27]],\n",
       "\n",
       "       [[49, 42, 79, 19, 45, 84, 88, 56],\n",
       "        [11, 85, 92, 38, 73, 94, 30, 20],\n",
       "        [70, 35, 68, 86, 17, 92, 36, 75]]])"
      ]
     },
     "execution_count": 99,
     "metadata": {},
     "output_type": "execute_result"
    }
   ],
   "source": [
    "c = np.random.randint(1, 99, size=24).reshape(2, 3, 4)\n",
    "g = np.random.randint(1, 99, size=24).reshape(2, 3, 4)\n",
    "d = np.append(c, g, axis=2)\n",
    "d"
   ]
  },
  {
   "cell_type": "code",
   "execution_count": 100,
   "id": "703a89de",
   "metadata": {},
   "outputs": [
    {
     "data": {
      "text/plain": [
       "array([[[78, 52,  1, 56, 44],\n",
       "        [ 3,  4,  2, 64, 44],\n",
       "        [48, 30,  3, 64,  1]],\n",
       "\n",
       "       [[49, 42,  1, 79, 19],\n",
       "        [11, 85,  2, 92, 38],\n",
       "        [70, 35,  3, 68, 86]]])"
      ]
     },
     "execution_count": 100,
     "metadata": {},
     "output_type": "execute_result"
    }
   ],
   "source": [
    "h = np.insert(c, 2, [1 , 2, 3], axis=2)\n",
    "h"
   ]
  },
  {
   "cell_type": "code",
   "execution_count": 101,
   "id": "4e5559d7",
   "metadata": {},
   "outputs": [
    {
     "data": {
      "text/plain": [
       "array([[[78, 56, 44],\n",
       "        [ 3, 64, 44],\n",
       "        [48, 64,  1]],\n",
       "\n",
       "       [[49, 79, 19],\n",
       "        [11, 92, 38],\n",
       "        [70, 68, 86]]])"
      ]
     },
     "execution_count": 101,
     "metadata": {},
     "output_type": "execute_result"
    }
   ],
   "source": [
    "m = np.delete(c, 1, axis=2)\n",
    "m"
   ]
  },
  {
   "cell_type": "markdown",
   "id": "476f6fa6",
   "metadata": {},
   "source": [
    "<img src=\"images/delete.png\" alt=\"dtype\"  width=\"700\" />"
   ]
  },
  {
   "cell_type": "markdown",
   "id": "9011aa06",
   "metadata": {},
   "source": [
    "## Array Concatenation and Splitting"
   ]
  },
  {
   "cell_type": "code",
   "execution_count": 102,
   "id": "593bf568",
   "metadata": {},
   "outputs": [
    {
     "data": {
      "text/plain": [
       "array([1, 2, 3, 3, 2, 1])"
      ]
     },
     "execution_count": 102,
     "metadata": {},
     "output_type": "execute_result"
    }
   ],
   "source": [
    "x = np.array([1, 2, 3])\n",
    "y = np.array([3, 2, 1])\n",
    "np.concatenate([x, y])"
   ]
  },
  {
   "cell_type": "code",
   "execution_count": 103,
   "id": "4a4113b5",
   "metadata": {},
   "outputs": [],
   "source": [
    "a = np.arange(12).reshape((3, 4))\n",
    "b = np.arange(13, 25).reshape((3, 4))"
   ]
  },
  {
   "cell_type": "code",
   "execution_count": 104,
   "id": "5adec276",
   "metadata": {},
   "outputs": [
    {
     "data": {
      "text/plain": [
       "array([[ 0,  1,  2,  3],\n",
       "       [ 4,  5,  6,  7],\n",
       "       [ 8,  9, 10, 11],\n",
       "       [13, 14, 15, 16],\n",
       "       [17, 18, 19, 20],\n",
       "       [21, 22, 23, 24]])"
      ]
     },
     "execution_count": 104,
     "metadata": {},
     "output_type": "execute_result"
    }
   ],
   "source": [
    "result0 = np.concatenate((a, b), axis=0)\n",
    "result0"
   ]
  },
  {
   "cell_type": "code",
   "execution_count": 105,
   "id": "291f7360",
   "metadata": {},
   "outputs": [
    {
     "data": {
      "text/plain": [
       "array([[ 0,  1,  2,  3, 13, 14, 15, 16],\n",
       "       [ 4,  5,  6,  7, 17, 18, 19, 20],\n",
       "       [ 8,  9, 10, 11, 21, 22, 23, 24]])"
      ]
     },
     "execution_count": 105,
     "metadata": {},
     "output_type": "execute_result"
    }
   ],
   "source": [
    "result1 = np.concatenate((a, b), axis=1)\n",
    "result1"
   ]
  },
  {
   "cell_type": "code",
   "execution_count": 106,
   "id": "7aef33a2",
   "metadata": {},
   "outputs": [
    {
     "data": {
      "text/plain": [
       "array([[[76, 64, 64, 88, 43],\n",
       "        [31, 73,  3, 84, 50]],\n",
       "\n",
       "       [[ 2, 70, 39, 90, 11],\n",
       "        [93, 25, 18, 90, 25]],\n",
       "\n",
       "       [[12, 75, 75, 22, 89],\n",
       "        [78, 16, 65, 57,  2]],\n",
       "\n",
       "       [[82, 94, 92, 34, 58],\n",
       "        [16, 65, 30, 14, 85]]])"
      ]
     },
     "execution_count": 106,
     "metadata": {},
     "output_type": "execute_result"
    }
   ],
   "source": [
    "e = np.random.randint(1, 99, size=40).reshape(4, 2, 5)\n",
    "e"
   ]
  },
  {
   "cell_type": "code",
   "execution_count": 107,
   "id": "c77f0c20",
   "metadata": {},
   "outputs": [],
   "source": [
    "split0 = np.split(e, 4, axis=0)\n",
    "split1 = np.split(e, 2, axis=1)\n",
    "split2 = np.split(e, 5, axis=2)"
   ]
  },
  {
   "cell_type": "code",
   "execution_count": 109,
   "id": "ffc8f385",
   "metadata": {},
   "outputs": [
    {
     "data": {
      "text/plain": [
       "[array([[[76, 64, 64, 88, 43]],\n",
       " \n",
       "        [[ 2, 70, 39, 90, 11]],\n",
       " \n",
       "        [[12, 75, 75, 22, 89]],\n",
       " \n",
       "        [[82, 94, 92, 34, 58]]]), array([[[31, 73,  3, 84, 50]],\n",
       " \n",
       "        [[93, 25, 18, 90, 25]],\n",
       " \n",
       "        [[78, 16, 65, 57,  2]],\n",
       " \n",
       "        [[16, 65, 30, 14, 85]]])]"
      ]
     },
     "execution_count": 109,
     "metadata": {},
     "output_type": "execute_result"
    }
   ],
   "source": [
    "split1"
   ]
  },
  {
   "cell_type": "markdown",
   "id": "9ff593d2",
   "metadata": {},
   "source": [
    "## Transpose"
   ]
  },
  {
   "cell_type": "code",
   "execution_count": 110,
   "id": "ca291218",
   "metadata": {},
   "outputs": [],
   "source": [
    "my_vector = np.arange(6)\n",
    "my_2D_array = np.arange(12).reshape((3, 4))\n",
    "my_3D_array = np.arange(24).reshape((2, 3, 4))"
   ]
  },
  {
   "cell_type": "code",
   "execution_count": 111,
   "id": "0760e61a",
   "metadata": {},
   "outputs": [
    {
     "data": {
      "text/plain": [
       "(6,)"
      ]
     },
     "execution_count": 111,
     "metadata": {},
     "output_type": "execute_result"
    }
   ],
   "source": [
    "my_vector.shape"
   ]
  },
  {
   "cell_type": "code",
   "execution_count": 112,
   "id": "5ed767d1",
   "metadata": {},
   "outputs": [
    {
     "data": {
      "text/plain": [
       "array([0, 1, 2, 3, 4, 5])"
      ]
     },
     "execution_count": 112,
     "metadata": {},
     "output_type": "execute_result"
    }
   ],
   "source": [
    "np.transpose(my_vector)"
   ]
  },
  {
   "cell_type": "code",
   "execution_count": 113,
   "id": "37904207",
   "metadata": {},
   "outputs": [
    {
     "data": {
      "text/plain": [
       "array([[0, 1, 2, 3, 4, 5]])"
      ]
     },
     "execution_count": 113,
     "metadata": {},
     "output_type": "execute_result"
    }
   ],
   "source": [
    "my_vector.shape = (1, 6)\n",
    "my_vector"
   ]
  },
  {
   "cell_type": "code",
   "execution_count": 114,
   "id": "a349a95e",
   "metadata": {},
   "outputs": [
    {
     "data": {
      "text/plain": [
       "(1, 6)"
      ]
     },
     "execution_count": 114,
     "metadata": {},
     "output_type": "execute_result"
    }
   ],
   "source": [
    "my_vector.shape"
   ]
  },
  {
   "cell_type": "code",
   "execution_count": 115,
   "id": "70384a49",
   "metadata": {},
   "outputs": [
    {
     "data": {
      "text/plain": [
       "array([[0],\n",
       "       [1],\n",
       "       [2],\n",
       "       [3],\n",
       "       [4],\n",
       "       [5]])"
      ]
     },
     "execution_count": 115,
     "metadata": {},
     "output_type": "execute_result"
    }
   ],
   "source": [
    "np.transpose(my_vector)"
   ]
  },
  {
   "cell_type": "code",
   "execution_count": 116,
   "id": "054c01e3",
   "metadata": {},
   "outputs": [
    {
     "data": {
      "text/plain": [
       "array([[ 0,  4,  8],\n",
       "       [ 1,  5,  9],\n",
       "       [ 2,  6, 10],\n",
       "       [ 3,  7, 11]])"
      ]
     },
     "execution_count": 116,
     "metadata": {},
     "output_type": "execute_result"
    }
   ],
   "source": [
    "np.transpose(my_2D_array)"
   ]
  },
  {
   "cell_type": "code",
   "execution_count": 117,
   "id": "c0135c3f",
   "metadata": {},
   "outputs": [
    {
     "data": {
      "text/plain": [
       "array([[[ 0, 12],\n",
       "        [ 4, 16],\n",
       "        [ 8, 20]],\n",
       "\n",
       "       [[ 1, 13],\n",
       "        [ 5, 17],\n",
       "        [ 9, 21]],\n",
       "\n",
       "       [[ 2, 14],\n",
       "        [ 6, 18],\n",
       "        [10, 22]],\n",
       "\n",
       "       [[ 3, 15],\n",
       "        [ 7, 19],\n",
       "        [11, 23]]])"
      ]
     },
     "execution_count": 117,
     "metadata": {},
     "output_type": "execute_result"
    }
   ],
   "source": [
    "result = np.transpose(my_3D_array, axes=(2, 1, 0))\n",
    "result"
   ]
  },
  {
   "cell_type": "code",
   "execution_count": 118,
   "id": "90a1dc2a",
   "metadata": {},
   "outputs": [
    {
     "data": {
      "text/plain": [
       "((2, 3, 4), (4, 3, 2))"
      ]
     },
     "execution_count": 118,
     "metadata": {},
     "output_type": "execute_result"
    }
   ],
   "source": [
    "my_3D_array.shape, result.shape"
   ]
  },
  {
   "cell_type": "code",
   "execution_count": 119,
   "id": "d4ee1cd2",
   "metadata": {},
   "outputs": [
    {
     "data": {
      "text/plain": [
       "(4, 3, 2)"
      ]
     },
     "execution_count": 119,
     "metadata": {},
     "output_type": "execute_result"
    }
   ],
   "source": [
    "np.swapaxes(my_3D_array, 2, 0).shape"
   ]
  },
  {
   "cell_type": "code",
   "execution_count": 120,
   "id": "91602c14",
   "metadata": {},
   "outputs": [
    {
     "data": {
      "text/plain": [
       "array([[[ 0,  4,  8],\n",
       "        [12, 16, 20]],\n",
       "\n",
       "       [[ 1,  5,  9],\n",
       "        [13, 17, 21]],\n",
       "\n",
       "       [[ 2,  6, 10],\n",
       "        [14, 18, 22]],\n",
       "\n",
       "       [[ 3,  7, 11],\n",
       "        [15, 19, 23]]])"
      ]
     },
     "execution_count": 120,
     "metadata": {},
     "output_type": "execute_result"
    }
   ],
   "source": [
    "moved = np.moveaxis(my_3D_array, 2, 0)\n",
    "moved"
   ]
  },
  {
   "cell_type": "code",
   "execution_count": 121,
   "id": "e5172f0f",
   "metadata": {},
   "outputs": [
    {
     "data": {
      "text/plain": [
       "((4, 2, 3), (2, 3, 4))"
      ]
     },
     "execution_count": 121,
     "metadata": {},
     "output_type": "execute_result"
    }
   ],
   "source": [
    "moved.shape, my_3D_array.shape"
   ]
  },
  {
   "cell_type": "markdown",
   "id": "db32d84d",
   "metadata": {},
   "source": [
    "## Dot Product"
   ]
  },
  {
   "cell_type": "markdown",
   "id": "cd9bf208",
   "metadata": {},
   "source": [
    "<img src=\"images/maxresdefault.jpg\" alt=\"dtype\"  width=\"800\" />"
   ]
  },
  {
   "cell_type": "code",
   "execution_count": 122,
   "id": "6ea72d38",
   "metadata": {},
   "outputs": [],
   "source": [
    "a = np.random.randint(0, 99, size=(3, 4))\n",
    "b = np.random.randint(0, 99, size=(3, 4))"
   ]
  },
  {
   "cell_type": "code",
   "execution_count": 123,
   "id": "5d043b26",
   "metadata": {},
   "outputs": [
    {
     "data": {
      "text/plain": [
       "array([[78, 62, 15, 79],\n",
       "       [70, 13, 19, 92],\n",
       "       [82, 59, 91,  7]])"
      ]
     },
     "execution_count": 123,
     "metadata": {},
     "output_type": "execute_result"
    }
   ],
   "source": [
    "a"
   ]
  },
  {
   "cell_type": "code",
   "execution_count": 124,
   "id": "c4240de1",
   "metadata": {},
   "outputs": [
    {
     "data": {
      "text/plain": [
       "array([[14, 58, 60,  5],\n",
       "       [50, 97, 62, 17],\n",
       "       [80, 12, 36, 70]])"
      ]
     },
     "execution_count": 124,
     "metadata": {},
     "output_type": "execute_result"
    }
   ],
   "source": [
    "b"
   ]
  },
  {
   "cell_type": "code",
   "execution_count": 125,
   "id": "658cfb64",
   "metadata": {},
   "outputs": [
    {
     "data": {
      "text/plain": [
       "array([[1092, 3596,  900,  395],\n",
       "       [3500, 1261, 1178, 1564],\n",
       "       [6560,  708, 3276,  490]])"
      ]
     },
     "execution_count": 125,
     "metadata": {},
     "output_type": "execute_result"
    }
   ],
   "source": [
    "a * b"
   ]
  },
  {
   "cell_type": "code",
   "execution_count": 126,
   "id": "8ad71aea",
   "metadata": {},
   "outputs": [
    {
     "data": {
      "text/plain": [
       "array([[ 5983, 12187, 13054],\n",
       "       [ 3334,  7503, 12880],\n",
       "       [10065, 15584, 11034]])"
      ]
     },
     "execution_count": 126,
     "metadata": {},
     "output_type": "execute_result"
    }
   ],
   "source": [
    "c = np.dot(a, b.T)\n",
    "c"
   ]
  },
  {
   "cell_type": "markdown",
   "id": "92942030",
   "metadata": {},
   "source": [
    "## Tile & Repeat"
   ]
  },
  {
   "cell_type": "code",
   "execution_count": 129,
   "id": "7953a626",
   "metadata": {},
   "outputs": [],
   "source": [
    "a = np.arange(10)\n",
    "b = np.arange(12).reshape((3, 4))"
   ]
  },
  {
   "cell_type": "code",
   "execution_count": 130,
   "id": "7f43da77",
   "metadata": {},
   "outputs": [
    {
     "data": {
      "text/plain": [
       "array([[0, 1, 2, 3, 4, 5, 6, 7, 8, 9],\n",
       "       [0, 1, 2, 3, 4, 5, 6, 7, 8, 9],\n",
       "       [0, 1, 2, 3, 4, 5, 6, 7, 8, 9]])"
      ]
     },
     "execution_count": 130,
     "metadata": {},
     "output_type": "execute_result"
    }
   ],
   "source": [
    "np.tile(a, 3).reshape(3, a.size)"
   ]
  },
  {
   "cell_type": "code",
   "execution_count": 132,
   "id": "8655b8c1",
   "metadata": {},
   "outputs": [
    {
     "data": {
      "text/plain": [
       "array([[[0, 1, 2, 3, 4, 5, 6, 7, 8, 9, 0, 1, 2, 3, 4, 5, 6, 7, 8, 9],\n",
       "        [0, 1, 2, 3, 4, 5, 6, 7, 8, 9, 0, 1, 2, 3, 4, 5, 6, 7, 8, 9]],\n",
       "\n",
       "       [[0, 1, 2, 3, 4, 5, 6, 7, 8, 9, 0, 1, 2, 3, 4, 5, 6, 7, 8, 9],\n",
       "        [0, 1, 2, 3, 4, 5, 6, 7, 8, 9, 0, 1, 2, 3, 4, 5, 6, 7, 8, 9]],\n",
       "\n",
       "       [[0, 1, 2, 3, 4, 5, 6, 7, 8, 9, 0, 1, 2, 3, 4, 5, 6, 7, 8, 9],\n",
       "        [0, 1, 2, 3, 4, 5, 6, 7, 8, 9, 0, 1, 2, 3, 4, 5, 6, 7, 8, 9]]])"
      ]
     },
     "execution_count": 132,
     "metadata": {},
     "output_type": "execute_result"
    }
   ],
   "source": [
    "np.tile(a, (3, 2, 2))"
   ]
  },
  {
   "cell_type": "code",
   "execution_count": 133,
   "id": "5e504add",
   "metadata": {},
   "outputs": [
    {
     "data": {
      "text/plain": [
       "array([[ 0,  1,  2,  3,  0,  1,  2,  3,  0,  1,  2,  3],\n",
       "       [ 4,  5,  6,  7,  4,  5,  6,  7,  4,  5,  6,  7],\n",
       "       [ 8,  9, 10, 11,  8,  9, 10, 11,  8,  9, 10, 11]])"
      ]
     },
     "execution_count": 133,
     "metadata": {},
     "output_type": "execute_result"
    }
   ],
   "source": [
    "np.tile(b, 3)"
   ]
  },
  {
   "cell_type": "code",
   "execution_count": 134,
   "id": "4b980a92",
   "metadata": {},
   "outputs": [
    {
     "data": {
      "text/plain": [
       "array([0, 0, 0, 1, 1, 1, 2, 2, 2, 3, 3, 3, 4, 4, 4, 5, 5, 5, 6, 6, 6, 7,\n",
       "       7, 7, 8, 8, 8, 9, 9, 9])"
      ]
     },
     "execution_count": 134,
     "metadata": {},
     "output_type": "execute_result"
    }
   ],
   "source": [
    "np.repeat(a, 3)"
   ]
  },
  {
   "cell_type": "code",
   "execution_count": 135,
   "id": "cae9be29",
   "metadata": {},
   "outputs": [
    {
     "data": {
      "text/plain": [
       "array([[ 0,  0,  1,  1,  2,  2,  3,  3],\n",
       "       [ 4,  4,  5,  5,  6,  6,  7,  7],\n",
       "       [ 8,  8,  9,  9, 10, 10, 11, 11]])"
      ]
     },
     "execution_count": 135,
     "metadata": {},
     "output_type": "execute_result"
    }
   ],
   "source": [
    "np.repeat(b, 2, axis=1)"
   ]
  },
  {
   "cell_type": "markdown",
   "id": "400f0c4a",
   "metadata": {},
   "source": [
    "<img src=\"images/tile-repeat.PNG\" alt=\"dtype\"  width=\"500\" />"
   ]
  },
  {
   "cell_type": "markdown",
   "id": "b04b3df6",
   "metadata": {},
   "source": [
    "## Sort Arrays"
   ]
  },
  {
   "cell_type": "markdown",
   "id": "25e4f13d",
   "metadata": {},
   "source": [
    "<img src=\"images/sort.PNG\" alt=\"dtype\"  width=\"500\" />"
   ]
  },
  {
   "cell_type": "code",
   "execution_count": 136,
   "id": "5bdba902",
   "metadata": {},
   "outputs": [],
   "source": [
    "c = np.random.randint(99, size=10)\n",
    "d = np.random.randint(99, size=(3, 4))"
   ]
  },
  {
   "cell_type": "code",
   "execution_count": 138,
   "id": "59fa06e2",
   "metadata": {},
   "outputs": [
    {
     "data": {
      "text/plain": [
       "array([72, 42,  4, 68, 68, 93, 76, 47, 30, 16])"
      ]
     },
     "execution_count": 138,
     "metadata": {},
     "output_type": "execute_result"
    }
   ],
   "source": [
    "c"
   ]
  },
  {
   "cell_type": "code",
   "execution_count": 139,
   "id": "585cd488",
   "metadata": {},
   "outputs": [
    {
     "data": {
      "text/plain": [
       "array([[41, 22, 30, 62],\n",
       "       [72, 23, 73, 67],\n",
       "       [53, 22, 54, 24]])"
      ]
     },
     "execution_count": 139,
     "metadata": {},
     "output_type": "execute_result"
    }
   ],
   "source": [
    "d"
   ]
  },
  {
   "cell_type": "code",
   "execution_count": 140,
   "id": "476c5a0a",
   "metadata": {},
   "outputs": [
    {
     "data": {
      "text/plain": [
       "array([ 4, 16, 30, 42, 47, 68, 68, 72, 76, 93])"
      ]
     },
     "execution_count": 140,
     "metadata": {},
     "output_type": "execute_result"
    }
   ],
   "source": [
    "np.sort(c)"
   ]
  },
  {
   "cell_type": "markdown",
   "id": "6e9e3a3c",
   "metadata": {},
   "source": [
    "<img src=\"images/sort-example.PNG\" alt=\"dtype\"  width=\"500\" />"
   ]
  },
  {
   "cell_type": "code",
   "execution_count": 141,
   "id": "a8106c70",
   "metadata": {},
   "outputs": [
    {
     "data": {
      "text/plain": [
       "array([[41, 22, 30, 24],\n",
       "       [53, 22, 54, 62],\n",
       "       [72, 23, 73, 67]])"
      ]
     },
     "execution_count": 141,
     "metadata": {},
     "output_type": "execute_result"
    }
   ],
   "source": [
    "np.sort(d, axis=0)"
   ]
  },
  {
   "cell_type": "code",
   "execution_count": 143,
   "id": "79df1b1f",
   "metadata": {},
   "outputs": [
    {
     "data": {
      "text/plain": [
       "array([72, 42,  4, 68, 68, 93, 76, 47, 30, 16])"
      ]
     },
     "execution_count": 143,
     "metadata": {},
     "output_type": "execute_result"
    }
   ],
   "source": [
    "c"
   ]
  },
  {
   "cell_type": "code",
   "execution_count": 142,
   "id": "86aba323",
   "metadata": {},
   "outputs": [
    {
     "data": {
      "text/plain": [
       "array([2, 9, 8, 1, 7, 3, 4, 0, 6, 5], dtype=int64)"
      ]
     },
     "execution_count": 142,
     "metadata": {},
     "output_type": "execute_result"
    }
   ],
   "source": [
    "np.argsort(c)"
   ]
  },
  {
   "cell_type": "code",
   "execution_count": 139,
   "id": "0e9d2422",
   "metadata": {},
   "outputs": [
    {
     "data": {
      "text/plain": [
       "array([[1, 1, 1, 2],\n",
       "       [0, 2, 0, 0],\n",
       "       [2, 0, 2, 1]], dtype=int64)"
      ]
     },
     "execution_count": 139,
     "metadata": {},
     "output_type": "execute_result"
    }
   ],
   "source": [
    "np.argsort(d, axis=0)"
   ]
  },
  {
   "cell_type": "code",
   "execution_count": 140,
   "id": "1d0fbcf5",
   "metadata": {},
   "outputs": [
    {
     "data": {
      "text/plain": [
       "4"
      ]
     },
     "execution_count": 140,
     "metadata": {},
     "output_type": "execute_result"
    }
   ],
   "source": [
    "np.argmax(c)"
   ]
  },
  {
   "cell_type": "code",
   "execution_count": 141,
   "id": "57fd380c",
   "metadata": {},
   "outputs": [
    {
     "data": {
      "text/plain": [
       "3"
      ]
     },
     "execution_count": 141,
     "metadata": {},
     "output_type": "execute_result"
    }
   ],
   "source": [
    "np.argmin(c)"
   ]
  },
  {
   "cell_type": "code",
   "execution_count": 157,
   "id": "23ad3aab",
   "metadata": {},
   "outputs": [
    {
     "data": {
      "text/plain": [
       "array([1, 1, 1, 1], dtype=int64)"
      ]
     },
     "execution_count": 157,
     "metadata": {},
     "output_type": "execute_result"
    }
   ],
   "source": [
    "np.argmax(d, axis=0)"
   ]
  },
  {
   "cell_type": "markdown",
   "id": "0254b919",
   "metadata": {},
   "source": [
    "## Padding"
   ]
  },
  {
   "cell_type": "markdown",
   "id": "9e50d737",
   "metadata": {},
   "source": [
    "<img src=\"images/padding.PNG\" alt=\"dtype\"  width=\"700\" />"
   ]
  },
  {
   "cell_type": "markdown",
   "id": "6b0a5dbd",
   "metadata": {},
   "source": [
    "<img src=\"images/Convolution_arithmetic_-_Full_padding_no_strides.gif\" alt=\"dtype\"  width=\"700\" />\n"
   ]
  },
  {
   "cell_type": "markdown",
   "id": "73a17248",
   "metadata": {},
   "source": [
    "## Speed Test"
   ]
  },
  {
   "cell_type": "code",
   "execution_count": 144,
   "id": "b7f073b2",
   "metadata": {},
   "outputs": [],
   "source": [
    "import datetime"
   ]
  },
  {
   "cell_type": "code",
   "execution_count": null,
   "id": "70ab003f",
   "metadata": {},
   "outputs": [],
   "source": [
    "a = np.random.randint(10, 99, size=100000, dtype=np.int64)\n",
    "b = np.random.randint(10, 99, size=100000, dtype=np.int64)"
   ]
  },
  {
   "cell_type": "code",
   "execution_count": 154,
   "id": "55a472c1",
   "metadata": {},
   "outputs": [
    {
     "data": {
      "text/plain": [
       "(2919872859, datetime.timedelta(microseconds=829523))"
      ]
     },
     "execution_count": 154,
     "metadata": {},
     "output_type": "execute_result"
    }
   ],
   "source": [
    "python_start = datetime.datetime.now()\n",
    "python_sum = 0\n",
    "for i, j in zip(a,b):\n",
    "    python_sum += i*j\n",
    "python_end = datetime.datetime.now()\n",
    "python_result = python_end - python_start\n",
    "python_sum, python_result"
   ]
  },
  {
   "cell_type": "code",
   "execution_count": 155,
   "id": "d40da1ff",
   "metadata": {},
   "outputs": [
    {
     "data": {
      "text/plain": [
       "(2919872859, datetime.timedelta(microseconds=1994))"
      ]
     },
     "execution_count": 155,
     "metadata": {},
     "output_type": "execute_result"
    }
   ],
   "source": [
    "numpy_start = datetime.datetime.now()\n",
    "numpy_sum = np.dot(a, b)\n",
    "numpy_end = datetime.datetime.now()\n",
    "numpy_result = numpy_end - numpy_start\n",
    "numpy_sum, numpy_result"
   ]
  },
  {
   "cell_type": "code",
   "execution_count": 156,
   "id": "bb65b5b2",
   "metadata": {},
   "outputs": [
    {
     "data": {
      "text/plain": [
       "416.00952858575727"
      ]
     },
     "execution_count": 156,
     "metadata": {},
     "output_type": "execute_result"
    }
   ],
   "source": [
    "python_result / numpy_result"
   ]
  },
  {
   "cell_type": "markdown",
   "id": "a1159a84",
   "metadata": {},
   "source": [
    "## RGB Images"
   ]
  },
  {
   "cell_type": "markdown",
   "id": "c5188021",
   "metadata": {},
   "source": [
    "<img src=\"images/rgb.PNG\" alt=\"dtype\"  width=\"800\" />"
   ]
  },
  {
   "cell_type": "markdown",
   "id": "3a5fff47",
   "metadata": {},
   "source": [
    "## For further reading"
   ]
  },
  {
   "cell_type": "markdown",
   "id": "5c67f194",
   "metadata": {},
   "source": [
    "https://numpy.org/doc/stable/reference/"
   ]
  }
 ],
 "metadata": {
  "kernelspec": {
   "display_name": "Python 3 (ipykernel)",
   "language": "python",
   "name": "python3"
  },
  "language_info": {
   "codemirror_mode": {
    "name": "ipython",
    "version": 3
   },
   "file_extension": ".py",
   "mimetype": "text/x-python",
   "name": "python",
   "nbconvert_exporter": "python",
   "pygments_lexer": "ipython3",
   "version": "3.10.5"
  },
  "vscode": {
   "interpreter": {
    "hash": "7e1998ff7f8aa20ada591c520b972326324e5ea05489af9e422744c7c09f6dad"
   }
  }
 },
 "nbformat": 4,
 "nbformat_minor": 5
}
